{
 "cells": [
  {
   "cell_type": "markdown",
   "metadata": {},
   "source": [
    "# Data prep"
   ]
  },
  {
   "cell_type": "markdown",
   "metadata": {},
   "source": [
    "Data splitting is one of the most vital tasks in assessing recommendation systems. Splitting strategy greatly affects the evaluation protocol so that it should always be taken into careful consideration by practitioners.\n",
    "\n",
    "The code hereafter explains how one applies different splitting strategies for specific scenarios.\n",
    "\n",
    "*NOTE: This notebook is based on code from [Recommenders library](https://github.com/recommenders-team/recommenders), under MIT license.*"
   ]
  },
  {
   "cell_type": "markdown",
   "metadata": {},
   "source": [
    "## 0 Global settings"
   ]
  },
  {
   "cell_type": "code",
   "execution_count": 1,
   "metadata": {},
   "outputs": [
    {
     "name": "stdout",
     "output_type": "stream",
     "text": [
      "Requirement already satisfied: setuptools in c:\\users\\souha\\anaconda3\\envs\\lab\\lib\\site-packages (71.1.0)\n",
      "Requirement already satisfied: wheel in c:\\users\\souha\\anaconda3\\envs\\lab\\lib\\site-packages (0.41.2)\n",
      "Requirement already satisfied: setuptools in c:\\users\\souha\\anaconda3\\envs\\lab\\lib\\site-packages (71.1.0)\n",
      "Collecting setuptools\n",
      "  Downloading setuptools-74.1.2-py3-none-any.whl.metadata (6.7 kB)\n",
      "Downloading setuptools-74.1.2-py3-none-any.whl (1.3 MB)\n",
      "   ---------------------------------------- 0.0/1.3 MB ? eta -:--:--\n",
      "   ---------------------------------------- 0.0/1.3 MB ? eta -:--:--\n",
      "   ---------------------------------------- 0.0/1.3 MB ? eta -:--:--\n",
      "   ---------------------------------------- 0.0/1.3 MB ? eta -:--:--\n",
      "   ---------------------------------------- 0.0/1.3 MB ? eta -:--:--\n",
      "   ---------------------------------------- 0.0/1.3 MB ? eta -:--:--\n",
      "   ---------------------------------------- 0.0/1.3 MB ? eta -:--:--\n",
      "   ---------------------------------------- 0.0/1.3 MB ? eta -:--:--\n",
      "    --------------------------------------- 0.0/1.3 MB 131.3 kB/s eta 0:00:10\n",
      "    --------------------------------------- 0.0/1.3 MB 131.3 kB/s eta 0:00:10\n",
      "   - -------------------------------------- 0.0/1.3 MB 109.3 kB/s eta 0:00:12\n",
      "   - -------------------------------------- 0.0/1.3 MB 109.3 kB/s eta 0:00:12\n",
      "   - -------------------------------------- 0.0/1.3 MB 109.3 kB/s eta 0:00:12\n",
      "   - -------------------------------------- 0.1/1.3 MB 136.5 kB/s eta 0:00:09\n",
      "   -- ------------------------------------- 0.1/1.3 MB 164.0 kB/s eta 0:00:08\n",
      "   -- ------------------------------------- 0.1/1.3 MB 159.1 kB/s eta 0:00:08\n",
      "   -- ------------------------------------- 0.1/1.3 MB 159.1 kB/s eta 0:00:08\n",
      "   --- ------------------------------------ 0.1/1.3 MB 182.2 kB/s eta 0:00:07\n",
      "   --- ------------------------------------ 0.1/1.3 MB 182.2 kB/s eta 0:00:07\n",
      "   --- ------------------------------------ 0.1/1.3 MB 182.2 kB/s eta 0:00:07\n",
      "   --- ------------------------------------ 0.1/1.3 MB 160.2 kB/s eta 0:00:08\n",
      "   ---- ----------------------------------- 0.1/1.3 MB 174.0 kB/s eta 0:00:07\n",
      "   ----- ---------------------------------- 0.2/1.3 MB 182.2 kB/s eta 0:00:07\n",
      "   ----- ---------------------------------- 0.2/1.3 MB 182.2 kB/s eta 0:00:07\n",
      "   ----- ---------------------------------- 0.2/1.3 MB 174.9 kB/s eta 0:00:07\n",
      "   ------ --------------------------------- 0.2/1.3 MB 187.3 kB/s eta 0:00:06\n",
      "   ------ --------------------------------- 0.2/1.3 MB 187.3 kB/s eta 0:00:06\n",
      "   ------ --------------------------------- 0.2/1.3 MB 186.0 kB/s eta 0:00:06\n",
      "   ------ --------------------------------- 0.2/1.3 MB 186.0 kB/s eta 0:00:06\n",
      "   ------ --------------------------------- 0.2/1.3 MB 186.0 kB/s eta 0:00:06\n",
      "   ------ --------------------------------- 0.2/1.3 MB 186.0 kB/s eta 0:00:06\n",
      "   ------ --------------------------------- 0.2/1.3 MB 186.0 kB/s eta 0:00:06\n",
      "   ------ --------------------------------- 0.2/1.3 MB 186.0 kB/s eta 0:00:06\n",
      "   ------ --------------------------------- 0.2/1.3 MB 186.0 kB/s eta 0:00:06\n",
      "   ------ --------------------------------- 0.2/1.3 MB 186.0 kB/s eta 0:00:06\n",
      "   ------ --------------------------------- 0.2/1.3 MB 186.0 kB/s eta 0:00:06\n",
      "   ------ --------------------------------- 0.2/1.3 MB 186.0 kB/s eta 0:00:06\n",
      "   ------ --------------------------------- 0.2/1.3 MB 186.0 kB/s eta 0:00:06\n",
      "   ------ --------------------------------- 0.2/1.3 MB 186.0 kB/s eta 0:00:06\n",
      "   ------ --------------------------------- 0.2/1.3 MB 186.0 kB/s eta 0:00:06\n",
      "   ------ --------------------------------- 0.2/1.3 MB 186.0 kB/s eta 0:00:06\n",
      "   ------ --------------------------------- 0.2/1.3 MB 186.0 kB/s eta 0:00:06\n",
      "   ------- -------------------------------- 0.2/1.3 MB 121.8 kB/s eta 0:00:09\n",
      "   ------- -------------------------------- 0.2/1.3 MB 121.8 kB/s eta 0:00:09\n",
      "   ------- -------------------------------- 0.2/1.3 MB 127.8 kB/s eta 0:00:08\n",
      "   ------- -------------------------------- 0.2/1.3 MB 127.8 kB/s eta 0:00:08\n",
      "   ------- -------------------------------- 0.2/1.3 MB 127.8 kB/s eta 0:00:08\n",
      "   ------- -------------------------------- 0.2/1.3 MB 127.8 kB/s eta 0:00:08\n",
      "   -------- ------------------------------- 0.3/1.3 MB 126.0 kB/s eta 0:00:08\n",
      "   -------- ------------------------------- 0.3/1.3 MB 126.0 kB/s eta 0:00:08\n",
      "   --------- ------------------------------ 0.3/1.3 MB 130.1 kB/s eta 0:00:08\n",
      "   --------- ------------------------------ 0.3/1.3 MB 133.0 kB/s eta 0:00:08\n",
      "   --------- ------------------------------ 0.3/1.3 MB 133.0 kB/s eta 0:00:08\n",
      "   --------- ------------------------------ 0.3/1.3 MB 130.2 kB/s eta 0:00:08\n",
      "   ---------- ----------------------------- 0.3/1.3 MB 139.2 kB/s eta 0:00:07\n",
      "   ---------- ----------------------------- 0.3/1.3 MB 139.2 kB/s eta 0:00:07\n",
      "   ---------- ----------------------------- 0.3/1.3 MB 139.2 kB/s eta 0:00:07\n",
      "   ---------- ----------------------------- 0.3/1.3 MB 139.2 kB/s eta 0:00:07\n",
      "   ---------- ----------------------------- 0.3/1.3 MB 139.2 kB/s eta 0:00:07\n",
      "   ----------- ---------------------------- 0.3/1.3 MB 136.0 kB/s eta 0:00:07\n",
      "   ----------- ---------------------------- 0.3/1.3 MB 136.0 kB/s eta 0:00:07\n",
      "   ----------- ---------------------------- 0.3/1.3 MB 136.0 kB/s eta 0:00:07\n",
      "   ----------- ---------------------------- 0.3/1.3 MB 136.0 kB/s eta 0:00:07\n",
      "   ----------- ---------------------------- 0.3/1.3 MB 136.0 kB/s eta 0:00:07\n",
      "   ----------- ---------------------------- 0.4/1.3 MB 132.6 kB/s eta 0:00:07\n",
      "   ----------- ---------------------------- 0.4/1.3 MB 132.6 kB/s eta 0:00:07\n",
      "   ----------- ---------------------------- 0.4/1.3 MB 132.6 kB/s eta 0:00:07\n",
      "   ----------- ---------------------------- 0.4/1.3 MB 132.6 kB/s eta 0:00:07\n",
      "   ----------- ---------------------------- 0.4/1.3 MB 132.6 kB/s eta 0:00:07\n",
      "   ----------- ---------------------------- 0.4/1.3 MB 132.6 kB/s eta 0:00:07\n",
      "   ----------- ---------------------------- 0.4/1.3 MB 132.6 kB/s eta 0:00:07\n",
      "   ----------- ---------------------------- 0.4/1.3 MB 132.6 kB/s eta 0:00:07\n",
      "   ----------- ---------------------------- 0.4/1.3 MB 132.6 kB/s eta 0:00:07\n",
      "   ----------- ---------------------------- 0.4/1.3 MB 132.6 kB/s eta 0:00:07\n",
      "   ----------- ---------------------------- 0.4/1.3 MB 132.6 kB/s eta 0:00:07\n",
      "   ----------- ---------------------------- 0.4/1.3 MB 132.6 kB/s eta 0:00:07\n",
      "   ----------- ---------------------------- 0.4/1.3 MB 132.6 kB/s eta 0:00:07\n",
      "   ----------- ---------------------------- 0.4/1.3 MB 132.6 kB/s eta 0:00:07\n",
      "   ----------- ---------------------------- 0.4/1.3 MB 132.6 kB/s eta 0:00:07\n",
      "   ----------- ---------------------------- 0.4/1.3 MB 132.6 kB/s eta 0:00:07\n",
      "   ----------- ---------------------------- 0.4/1.3 MB 132.6 kB/s eta 0:00:07\n",
      "   ----------- ---------------------------- 0.4/1.3 MB 132.6 kB/s eta 0:00:07\n",
      "   ----------- ---------------------------- 0.4/1.3 MB 132.6 kB/s eta 0:00:07\n",
      "   ----------- ---------------------------- 0.4/1.3 MB 132.6 kB/s eta 0:00:07\n",
      "   ----------- ---------------------------- 0.4/1.3 MB 132.6 kB/s eta 0:00:07\n",
      "   ----------- ---------------------------- 0.4/1.3 MB 132.6 kB/s eta 0:00:07\n",
      "   ----------- ---------------------------- 0.4/1.3 MB 132.6 kB/s eta 0:00:07\n",
      "   ----------- ---------------------------- 0.4/1.3 MB 132.6 kB/s eta 0:00:07\n",
      "   ----------- ---------------------------- 0.4/1.3 MB 132.6 kB/s eta 0:00:07\n",
      "   ----------- ---------------------------- 0.4/1.3 MB 132.6 kB/s eta 0:00:07\n",
      "   ----------- ---------------------------- 0.4/1.3 MB 132.6 kB/s eta 0:00:07\n",
      "   ----------- ---------------------------- 0.4/1.3 MB 132.6 kB/s eta 0:00:07\n",
      "   ----------- ---------------------------- 0.4/1.3 MB 132.6 kB/s eta 0:00:07\n",
      "   ----------- ---------------------------- 0.4/1.3 MB 132.6 kB/s eta 0:00:07\n",
      "   ----------- ---------------------------- 0.4/1.3 MB 132.6 kB/s eta 0:00:07\n",
      "   ----------- ---------------------------- 0.4/1.3 MB 132.6 kB/s eta 0:00:07\n",
      "   ----------- ---------------------------- 0.4/1.3 MB 132.6 kB/s eta 0:00:07\n",
      "   ----------- ---------------------------- 0.4/1.3 MB 132.6 kB/s eta 0:00:07\n",
      "   ----------- ---------------------------- 0.4/1.3 MB 132.6 kB/s eta 0:00:07\n",
      "   ----------- ---------------------------- 0.4/1.3 MB 132.6 kB/s eta 0:00:07\n",
      "   ----------- ---------------------------- 0.4/1.3 MB 132.6 kB/s eta 0:00:07\n",
      "   ----------- ---------------------------- 0.4/1.3 MB 132.6 kB/s eta 0:00:07\n",
      "   ----------- ---------------------------- 0.4/1.3 MB 132.6 kB/s eta 0:00:07\n",
      "   ----------- ---------------------------- 0.4/1.3 MB 132.6 kB/s eta 0:00:07\n",
      "   ----------- ---------------------------- 0.4/1.3 MB 132.6 kB/s eta 0:00:07\n",
      "   ------------ --------------------------- 0.4/1.3 MB 81.1 kB/s eta 0:00:11\n",
      "   ------------ --------------------------- 0.4/1.3 MB 81.1 kB/s eta 0:00:11\n",
      "   ------------ --------------------------- 0.4/1.3 MB 86.3 kB/s eta 0:00:10\n",
      "   ------------ --------------------------- 0.4/1.3 MB 86.3 kB/s eta 0:00:10\n",
      "   ------------ --------------------------- 0.4/1.3 MB 86.3 kB/s eta 0:00:10\n",
      "   ------------ --------------------------- 0.4/1.3 MB 86.3 kB/s eta 0:00:10\n",
      "   ------------ --------------------------- 0.4/1.3 MB 86.3 kB/s eta 0:00:10\n",
      "   ------------ --------------------------- 0.4/1.3 MB 86.3 kB/s eta 0:00:10\n",
      "   ------------ --------------------------- 0.4/1.3 MB 86.3 kB/s eta 0:00:10\n",
      "   ------------ --------------------------- 0.4/1.3 MB 86.3 kB/s eta 0:00:10\n",
      "   ------------- -------------------------- 0.4/1.3 MB 84.5 kB/s eta 0:00:10\n",
      "   ------------- -------------------------- 0.4/1.3 MB 84.5 kB/s eta 0:00:10\n",
      "   ------------- -------------------------- 0.4/1.3 MB 84.5 kB/s eta 0:00:10\n",
      "   ------------- -------------------------- 0.4/1.3 MB 84.5 kB/s eta 0:00:10\n",
      "   ------------- -------------------------- 0.4/1.3 MB 84.5 kB/s eta 0:00:10\n",
      "   ------------- -------------------------- 0.4/1.3 MB 84.5 kB/s eta 0:00:10\n",
      "   ------------- -------------------------- 0.4/1.3 MB 84.5 kB/s eta 0:00:10\n",
      "   ------------- -------------------------- 0.4/1.3 MB 84.5 kB/s eta 0:00:10\n",
      "   ------------- -------------------------- 0.4/1.3 MB 84.5 kB/s eta 0:00:10\n",
      "   ------------- -------------------------- 0.4/1.3 MB 84.5 kB/s eta 0:00:10\n",
      "   -------------- ------------------------- 0.5/1.3 MB 81.2 kB/s eta 0:00:10\n",
      "   -------------- ------------------------- 0.5/1.3 MB 81.2 kB/s eta 0:00:10\n",
      "   -------------- ------------------------- 0.5/1.3 MB 81.2 kB/s eta 0:00:10\n",
      "   -------------- ------------------------- 0.5/1.3 MB 81.2 kB/s eta 0:00:10\n",
      "   -------------- ------------------------- 0.5/1.3 MB 81.2 kB/s eta 0:00:10\n",
      "   -------------- ------------------------- 0.5/1.3 MB 81.2 kB/s eta 0:00:10\n",
      "   -------------- ------------------------- 0.5/1.3 MB 81.2 kB/s eta 0:00:10\n",
      "   -------------- ------------------------- 0.5/1.3 MB 81.2 kB/s eta 0:00:10\n",
      "   -------------- ------------------------- 0.5/1.3 MB 81.2 kB/s eta 0:00:10\n",
      "   -------------- ------------------------- 0.5/1.3 MB 81.2 kB/s eta 0:00:10\n",
      "   -------------- ------------------------- 0.5/1.3 MB 81.2 kB/s eta 0:00:10\n",
      "   -------------- ------------------------- 0.5/1.3 MB 81.2 kB/s eta 0:00:10\n",
      "   -------------- ------------------------- 0.5/1.3 MB 81.2 kB/s eta 0:00:10\n",
      "   -------------- ------------------------- 0.5/1.3 MB 81.2 kB/s eta 0:00:10\n",
      "   -------------- ------------------------- 0.5/1.3 MB 74.9 kB/s eta 0:00:11\n",
      "   -------------- ------------------------- 0.5/1.3 MB 74.9 kB/s eta 0:00:11\n",
      "   -------------- ------------------------- 0.5/1.3 MB 74.9 kB/s eta 0:00:11\n",
      "   -------------- ------------------------- 0.5/1.3 MB 74.9 kB/s eta 0:00:11\n",
      "   -------------- ------------------------- 0.5/1.3 MB 74.9 kB/s eta 0:00:11\n",
      "   -------------- ------------------------- 0.5/1.3 MB 74.9 kB/s eta 0:00:11\n",
      "   -------------- ------------------------- 0.5/1.3 MB 74.9 kB/s eta 0:00:11\n",
      "   --------------- ------------------------ 0.5/1.3 MB 74.4 kB/s eta 0:00:11\n",
      "   --------------- ------------------------ 0.5/1.3 MB 74.4 kB/s eta 0:00:11\n",
      "   --------------- ------------------------ 0.5/1.3 MB 74.4 kB/s eta 0:00:11\n",
      "   --------------- ------------------------ 0.5/1.3 MB 74.4 kB/s eta 0:00:11\n",
      "   --------------- ------------------------ 0.5/1.3 MB 74.0 kB/s eta 0:00:11\n",
      "   --------------- ------------------------ 0.5/1.3 MB 74.0 kB/s eta 0:00:11\n",
      "   --------------- ------------------------ 0.5/1.3 MB 74.0 kB/s eta 0:00:11\n",
      "   --------------- ------------------------ 0.5/1.3 MB 74.0 kB/s eta 0:00:11\n",
      "   --------------- ------------------------ 0.5/1.3 MB 74.0 kB/s eta 0:00:11\n",
      "   ---------------- ----------------------- 0.5/1.3 MB 74.7 kB/s eta 0:00:11\n",
      "   ---------------- ----------------------- 0.5/1.3 MB 76.8 kB/s eta 0:00:10\n",
      "   ---------------- ----------------------- 0.5/1.3 MB 76.8 kB/s eta 0:00:10\n",
      "   ----------------- ---------------------- 0.5/1.3 MB 77.6 kB/s eta 0:00:10\n",
      "   ----------------- ---------------------- 0.5/1.3 MB 77.6 kB/s eta 0:00:10\n",
      "   ----------------- ---------------------- 0.6/1.3 MB 79.5 kB/s eta 0:00:09\n",
      "   ----------------- ---------------------- 0.6/1.3 MB 79.5 kB/s eta 0:00:09\n",
      "   ------------------ --------------------- 0.6/1.3 MB 79.9 kB/s eta 0:00:09\n",
      "   ------------------ --------------------- 0.6/1.3 MB 79.9 kB/s eta 0:00:09\n",
      "   ------------------ --------------------- 0.6/1.3 MB 82.1 kB/s eta 0:00:09\n",
      "   ------------------ --------------------- 0.6/1.3 MB 82.1 kB/s eta 0:00:09\n",
      "   ------------------ --------------------- 0.6/1.3 MB 82.1 kB/s eta 0:00:09\n",
      "   ------------------- -------------------- 0.6/1.3 MB 83.7 kB/s eta 0:00:08\n",
      "   ------------------- -------------------- 0.6/1.3 MB 83.7 kB/s eta 0:00:08\n",
      "   ------------------- -------------------- 0.6/1.3 MB 83.7 kB/s eta 0:00:08\n",
      "   ------------------- -------------------- 0.6/1.3 MB 83.7 kB/s eta 0:00:08\n",
      "   ------------------- -------------------- 0.6/1.3 MB 83.0 kB/s eta 0:00:08\n",
      "   ------------------- -------------------- 0.6/1.3 MB 83.0 kB/s eta 0:00:08\n",
      "   -------------------- ------------------- 0.6/1.3 MB 85.0 kB/s eta 0:00:08\n",
      "   -------------------- ------------------- 0.7/1.3 MB 85.5 kB/s eta 0:00:08\n",
      "   -------------------- ------------------- 0.7/1.3 MB 85.5 kB/s eta 0:00:08\n",
      "   -------------------- ------------------- 0.7/1.3 MB 85.5 kB/s eta 0:00:08\n",
      "   -------------------- ------------------- 0.7/1.3 MB 85.5 kB/s eta 0:00:08\n",
      "   -------------------- ------------------- 0.7/1.3 MB 85.5 kB/s eta 0:00:08\n",
      "   -------------------- ------------------- 0.7/1.3 MB 85.5 kB/s eta 0:00:08\n",
      "   --------------------- ------------------ 0.7/1.3 MB 85.4 kB/s eta 0:00:07\n",
      "   --------------------- ------------------ 0.7/1.3 MB 85.4 kB/s eta 0:00:07\n",
      "   --------------------- ------------------ 0.7/1.3 MB 85.4 kB/s eta 0:00:07\n",
      "   ---------------------- ----------------- 0.7/1.3 MB 86.8 kB/s eta 0:00:07\n",
      "   ---------------------- ----------------- 0.7/1.3 MB 86.8 kB/s eta 0:00:07\n",
      "   ---------------------- ----------------- 0.7/1.3 MB 86.8 kB/s eta 0:00:07\n",
      "   ---------------------- ----------------- 0.7/1.3 MB 86.8 kB/s eta 0:00:07\n",
      "   ---------------------- ----------------- 0.7/1.3 MB 86.8 kB/s eta 0:00:07\n",
      "   ---------------------- ----------------- 0.7/1.3 MB 85.7 kB/s eta 0:00:07\n",
      "   ---------------------- ----------------- 0.7/1.3 MB 85.7 kB/s eta 0:00:07\n",
      "   ---------------------- ----------------- 0.7/1.3 MB 85.7 kB/s eta 0:00:07\n",
      "   ---------------------- ----------------- 0.7/1.3 MB 85.7 kB/s eta 0:00:07\n",
      "   ---------------------- ----------------- 0.7/1.3 MB 85.7 kB/s eta 0:00:07\n",
      "   ----------------------- ---------------- 0.7/1.3 MB 85.9 kB/s eta 0:00:07\n",
      "   ----------------------- ---------------- 0.7/1.3 MB 86.3 kB/s eta 0:00:07\n",
      "   ----------------------- ---------------- 0.7/1.3 MB 86.3 kB/s eta 0:00:07\n",
      "   ----------------------- ---------------- 0.7/1.3 MB 86.3 kB/s eta 0:00:07\n",
      "   ------------------------ --------------- 0.8/1.3 MB 87.3 kB/s eta 0:00:06\n",
      "   ------------------------ --------------- 0.8/1.3 MB 87.3 kB/s eta 0:00:06\n",
      "   ------------------------ --------------- 0.8/1.3 MB 87.3 kB/s eta 0:00:06\n",
      "   ------------------------ --------------- 0.8/1.3 MB 88.4 kB/s eta 0:00:06\n",
      "   ------------------------ --------------- 0.8/1.3 MB 88.4 kB/s eta 0:00:06\n",
      "   ------------------------ --------------- 0.8/1.3 MB 89.1 kB/s eta 0:00:06\n",
      "   ------------------------ --------------- 0.8/1.3 MB 89.1 kB/s eta 0:00:06\n",
      "   ------------------------ --------------- 0.8/1.3 MB 89.1 kB/s eta 0:00:06\n",
      "   ------------------------ --------------- 0.8/1.3 MB 89.1 kB/s eta 0:00:06\n",
      "   ------------------------ --------------- 0.8/1.3 MB 89.1 kB/s eta 0:00:06\n",
      "   ------------------------ --------------- 0.8/1.3 MB 89.1 kB/s eta 0:00:06\n",
      "   ------------------------ --------------- 0.8/1.3 MB 89.1 kB/s eta 0:00:06\n",
      "   ------------------------- -------------- 0.8/1.3 MB 88.3 kB/s eta 0:00:06\n",
      "   ------------------------- -------------- 0.8/1.3 MB 88.3 kB/s eta 0:00:06\n",
      "   ------------------------- -------------- 0.8/1.3 MB 88.5 kB/s eta 0:00:06\n",
      "   -------------------------- ------------- 0.8/1.3 MB 90.6 kB/s eta 0:00:05\n",
      "   -------------------------- ------------- 0.8/1.3 MB 90.6 kB/s eta 0:00:05\n",
      "   -------------------------- ------------- 0.8/1.3 MB 90.6 kB/s eta 0:00:05\n",
      "   -------------------------- ------------- 0.8/1.3 MB 90.6 kB/s eta 0:00:05\n",
      "   -------------------------- ------------- 0.8/1.3 MB 90.6 kB/s eta 0:00:05\n",
      "   -------------------------- ------------- 0.8/1.3 MB 90.6 kB/s eta 0:00:05\n",
      "   -------------------------- ------------- 0.8/1.3 MB 90.6 kB/s eta 0:00:05\n",
      "   -------------------------- ------------- 0.8/1.3 MB 90.6 kB/s eta 0:00:05\n",
      "   -------------------------- ------------- 0.8/1.3 MB 90.6 kB/s eta 0:00:05\n",
      "   -------------------------- ------------- 0.8/1.3 MB 90.6 kB/s eta 0:00:05\n",
      "   -------------------------- ------------- 0.8/1.3 MB 90.6 kB/s eta 0:00:05\n",
      "   -------------------------- ------------- 0.8/1.3 MB 90.6 kB/s eta 0:00:05\n",
      "   -------------------------- ------------- 0.8/1.3 MB 90.6 kB/s eta 0:00:05\n",
      "   -------------------------- ------------- 0.8/1.3 MB 90.6 kB/s eta 0:00:05\n",
      "   -------------------------- ------------- 0.8/1.3 MB 90.6 kB/s eta 0:00:05\n",
      "   -------------------------- ------------- 0.8/1.3 MB 90.6 kB/s eta 0:00:05\n",
      "   -------------------------- ------------- 0.8/1.3 MB 90.6 kB/s eta 0:00:05\n",
      "   -------------------------- ------------- 0.8/1.3 MB 90.6 kB/s eta 0:00:05\n",
      "   -------------------------- ------------- 0.8/1.3 MB 90.6 kB/s eta 0:00:05\n",
      "   -------------------------- ------------- 0.8/1.3 MB 90.6 kB/s eta 0:00:05\n",
      "   -------------------------- ------------- 0.8/1.3 MB 90.6 kB/s eta 0:00:05\n",
      "   -------------------------- ------------- 0.8/1.3 MB 90.6 kB/s eta 0:00:05\n",
      "   -------------------------- ------------- 0.8/1.3 MB 90.6 kB/s eta 0:00:05\n",
      "   -------------------------- ------------- 0.8/1.3 MB 82.3 kB/s eta 0:00:06\n",
      "   --------------------------- ------------ 0.9/1.3 MB 84.0 kB/s eta 0:00:05\n",
      "   --------------------------- ------------ 0.9/1.3 MB 84.5 kB/s eta 0:00:05\n",
      "   --------------------------- ------------ 0.9/1.3 MB 84.5 kB/s eta 0:00:05\n",
      "   ---------------------------- ----------- 0.9/1.3 MB 85.9 kB/s eta 0:00:05\n",
      "   ---------------------------- ----------- 0.9/1.3 MB 85.9 kB/s eta 0:00:05\n",
      "   ---------------------------- ----------- 0.9/1.3 MB 85.9 kB/s eta 0:00:05\n",
      "   ---------------------------- ----------- 0.9/1.3 MB 85.9 kB/s eta 0:00:05\n",
      "   ---------------------------- ----------- 0.9/1.3 MB 85.9 kB/s eta 0:00:05\n",
      "   ----------------------------- ---------- 0.9/1.3 MB 86.0 kB/s eta 0:00:04\n",
      "   ----------------------------- ---------- 0.9/1.3 MB 86.0 kB/s eta 0:00:04\n",
      "   ----------------------------- ---------- 0.9/1.3 MB 86.2 kB/s eta 0:00:04\n",
      "   ----------------------------- ---------- 0.9/1.3 MB 86.2 kB/s eta 0:00:04\n",
      "   ----------------------------- ---------- 0.9/1.3 MB 86.2 kB/s eta 0:00:04\n",
      "   ----------------------------- ---------- 0.9/1.3 MB 86.2 kB/s eta 0:00:04\n",
      "   ----------------------------- ---------- 0.9/1.3 MB 86.2 kB/s eta 0:00:04\n",
      "   ------------------------------ --------- 1.0/1.3 MB 86.5 kB/s eta 0:00:04\n",
      "   ------------------------------ --------- 1.0/1.3 MB 87.3 kB/s eta 0:00:04\n",
      "   ------------------------------- -------- 1.0/1.3 MB 88.8 kB/s eta 0:00:04\n",
      "   ------------------------------- -------- 1.0/1.3 MB 88.8 kB/s eta 0:00:04\n",
      "   ------------------------------- -------- 1.0/1.3 MB 90.0 kB/s eta 0:00:03\n",
      "   ------------------------------- -------- 1.0/1.3 MB 90.0 kB/s eta 0:00:03\n",
      "   -------------------------------- ------- 1.0/1.3 MB 90.2 kB/s eta 0:00:03\n",
      "   -------------------------------- ------- 1.0/1.3 MB 91.5 kB/s eta 0:00:03\n",
      "   --------------------------------- ------ 1.0/1.3 MB 92.1 kB/s eta 0:00:03\n",
      "   --------------------------------- ------ 1.0/1.3 MB 92.1 kB/s eta 0:00:03\n",
      "   ---------------------------------- ----- 1.1/1.3 MB 94.1 kB/s eta 0:00:02\n",
      "   ----------------------------------- ---- 1.1/1.3 MB 97.4 kB/s eta 0:00:02\n",
      "   ----------------------------------- ---- 1.1/1.3 MB 97.4 kB/s eta 0:00:02\n",
      "   ----------------------------------- ---- 1.1/1.3 MB 97.7 kB/s eta 0:00:02\n",
      "   ------------------------------------ --- 1.1/1.3 MB 98.8 kB/s eta 0:00:02\n",
      "   ------------------------------------ --- 1.2/1.3 MB 99.3 kB/s eta 0:00:02\n",
      "   ------------------------------------- -- 1.2/1.3 MB 100.8 kB/s eta 0:00:01\n",
      "   -------------------------------------- - 1.2/1.3 MB 103.1 kB/s eta 0:00:01\n",
      "   -------------------------------------- - 1.2/1.3 MB 103.1 kB/s eta 0:00:01\n",
      "   -------------------------------------- - 1.2/1.3 MB 103.1 kB/s eta 0:00:01\n",
      "   ---------------------------------------  1.3/1.3 MB 106.2 kB/s eta 0:00:01\n",
      "   ---------------------------------------- 1.3/1.3 MB 106.4 kB/s eta 0:00:00\n",
      "Installing collected packages: setuptools\n",
      "  Attempting uninstall: setuptools\n",
      "    Found existing installation: setuptools 71.1.0\n",
      "    Uninstalling setuptools-71.1.0:\n",
      "      Successfully uninstalled setuptools-71.1.0\n",
      "Successfully installed setuptools-74.1.2\n"
     ]
    }
   ],
   "source": [
    "!pip install setuptools wheel\n",
    "!pip install --upgrade setuptools\n"
   ]
  },
  {
   "cell_type": "code",
   "execution_count": 2,
   "metadata": {},
   "outputs": [
    {
     "name": "stdout",
     "output_type": "stream",
     "text": [
      "Requirement already satisfied: numpy in c:\\users\\souha\\anaconda3\\envs\\lab\\lib\\site-packages (1.26.4)\n",
      "Requirement already satisfied: scipy in c:\\users\\souha\\anaconda3\\envs\\lab\\lib\\site-packages (1.13.0)\n",
      "Requirement already satisfied: scikit-learn in c:\\users\\souha\\anaconda3\\envs\\lab\\lib\\site-packages (1.5.1)\n",
      "Requirement already satisfied: joblib>=1.2.0 in c:\\users\\souha\\anaconda3\\envs\\lab\\lib\\site-packages (from scikit-learn) (1.4.2)\n",
      "Requirement already satisfied: threadpoolctl>=3.1.0 in c:\\users\\souha\\anaconda3\\envs\\lab\\lib\\site-packages (from scikit-learn) (3.5.0)\n",
      "Requirement already satisfied: lightfm in c:\\users\\souha\\anaconda3\\envs\\lab\\lib\\site-packages (1.17)\n",
      "Requirement already satisfied: scikit-surprise in c:\\users\\souha\\anaconda3\\envs\\lab\\lib\\site-packages (1.1.4)\n",
      "Requirement already satisfied: numpy in c:\\users\\souha\\anaconda3\\envs\\lab\\lib\\site-packages (from lightfm) (1.26.4)\n",
      "Requirement already satisfied: scipy>=0.17.0 in c:\\users\\souha\\anaconda3\\envs\\lab\\lib\\site-packages (from lightfm) (1.13.0)\n",
      "Requirement already satisfied: requests in c:\\users\\souha\\anaconda3\\envs\\lab\\lib\\site-packages (from lightfm) (2.31.0)\n",
      "Requirement already satisfied: scikit-learn in c:\\users\\souha\\anaconda3\\envs\\lab\\lib\\site-packages (from lightfm) (1.5.1)\n",
      "Requirement already satisfied: joblib>=1.2.0 in c:\\users\\souha\\anaconda3\\envs\\lab\\lib\\site-packages (from scikit-surprise) (1.4.2)\n",
      "Requirement already satisfied: charset-normalizer<4,>=2 in c:\\users\\souha\\anaconda3\\envs\\lab\\lib\\site-packages (from requests->lightfm) (3.3.2)\n",
      "Requirement already satisfied: idna<4,>=2.5 in c:\\users\\souha\\anaconda3\\envs\\lab\\lib\\site-packages (from requests->lightfm) (3.7)\n",
      "Requirement already satisfied: urllib3<3,>=1.21.1 in c:\\users\\souha\\anaconda3\\envs\\lab\\lib\\site-packages (from requests->lightfm) (2.2.1)\n",
      "Requirement already satisfied: certifi>=2017.4.17 in c:\\users\\souha\\anaconda3\\envs\\lab\\lib\\site-packages (from requests->lightfm) (2024.2.2)\n",
      "Requirement already satisfied: threadpoolctl>=3.1.0 in c:\\users\\souha\\anaconda3\\envs\\lab\\lib\\site-packages (from scikit-learn->lightfm) (3.5.0)\n"
     ]
    }
   ],
   "source": [
    "!pip install numpy scipy scikit-learn\n",
    "!pip install lightfm scikit-surprise"
   ]
  },
  {
   "cell_type": "code",
   "execution_count": 3,
   "metadata": {},
   "outputs": [
    {
     "name": "stdout",
     "output_type": "stream",
     "text": [
      "Requirement already satisfied: recommenders in c:\\users\\souha\\anaconda3\\envs\\lab\\lib\\site-packages (1.2.0)\n",
      "Requirement already satisfied: category-encoders<3,>=2.6.0 in c:\\users\\souha\\anaconda3\\envs\\lab\\lib\\site-packages (from recommenders) (2.6.3)\n",
      "Requirement already satisfied: cornac<2,>=1.15.2 in c:\\users\\souha\\anaconda3\\envs\\lab\\lib\\site-packages (from recommenders) (1.18.0)\n",
      "Requirement already satisfied: hyperopt<1,>=0.2.7 in c:\\users\\souha\\anaconda3\\envs\\lab\\lib\\site-packages (from recommenders) (0.2.7)\n",
      "Requirement already satisfied: lightfm<2,>=1.17 in c:\\users\\souha\\anaconda3\\envs\\lab\\lib\\site-packages (from recommenders) (1.17)\n",
      "Requirement already satisfied: lightgbm<5,>=4.0.0 in c:\\users\\souha\\anaconda3\\envs\\lab\\lib\\site-packages (from recommenders) (4.4.0)\n",
      "Requirement already satisfied: locust<3,>=2.12.2 in c:\\users\\souha\\anaconda3\\envs\\lab\\lib\\site-packages (from recommenders) (2.29.1)\n",
      "Requirement already satisfied: memory-profiler<1,>=0.61.0 in c:\\users\\souha\\anaconda3\\envs\\lab\\lib\\site-packages (from recommenders) (0.61.0)\n",
      "Requirement already satisfied: nltk<4,>=3.8.1 in c:\\users\\souha\\anaconda3\\envs\\lab\\lib\\site-packages (from recommenders) (3.8.1)\n",
      "Requirement already satisfied: notebook<8,>=7.0.0 in c:\\users\\souha\\anaconda3\\envs\\lab\\lib\\site-packages (from recommenders) (7.2.1)\n",
      "Requirement already satisfied: numba<1,>=0.57.0 in c:\\users\\souha\\anaconda3\\envs\\lab\\lib\\site-packages (from recommenders) (0.60.0)\n",
      "Requirement already satisfied: pandas<3.0.0,>2.0.0 in c:\\users\\souha\\anaconda3\\envs\\lab\\lib\\site-packages (from recommenders) (2.2.2)\n",
      "Requirement already satisfied: retrying<2,>=1.3.4 in c:\\users\\souha\\anaconda3\\envs\\lab\\lib\\site-packages (from recommenders) (1.3.4)\n",
      "Requirement already satisfied: scikit-learn<2,>=1.2.0 in c:\\users\\souha\\anaconda3\\envs\\lab\\lib\\site-packages (from recommenders) (1.5.1)\n",
      "Requirement already satisfied: scikit-surprise>=1.1.3 in c:\\users\\souha\\anaconda3\\envs\\lab\\lib\\site-packages (from recommenders) (1.1.4)\n",
      "Requirement already satisfied: scipy>=1.10.1 in c:\\users\\souha\\anaconda3\\envs\\lab\\lib\\site-packages (from recommenders) (1.13.0)\n",
      "Requirement already satisfied: seaborn<1,>=0.13.0 in c:\\users\\souha\\anaconda3\\envs\\lab\\lib\\site-packages (from recommenders) (0.13.2)\n",
      "Requirement already satisfied: transformers<5,>=4.27.0 in c:\\users\\souha\\anaconda3\\envs\\lab\\lib\\site-packages (from recommenders) (4.43.1)\n",
      "Requirement already satisfied: pandera>=0.15.0 in c:\\users\\souha\\anaconda3\\envs\\lab\\lib\\site-packages (from pandera[strategies]>=0.15.0; python_version >= \"3.9\"->recommenders) (0.20.3)\n",
      "Requirement already satisfied: numpy>=1.14.0 in c:\\users\\souha\\anaconda3\\envs\\lab\\lib\\site-packages (from category-encoders<3,>=2.6.0->recommenders) (1.26.4)\n",
      "Requirement already satisfied: statsmodels>=0.9.0 in c:\\users\\souha\\anaconda3\\envs\\lab\\lib\\site-packages (from category-encoders<3,>=2.6.0->recommenders) (0.14.2)\n",
      "Requirement already satisfied: patsy>=0.5.1 in c:\\users\\souha\\anaconda3\\envs\\lab\\lib\\site-packages (from category-encoders<3,>=2.6.0->recommenders) (0.5.6)\n",
      "Requirement already satisfied: tqdm in c:\\users\\souha\\anaconda3\\envs\\lab\\lib\\site-packages (from cornac<2,>=1.15.2->recommenders) (4.66.4)\n",
      "Requirement already satisfied: powerlaw in c:\\users\\souha\\anaconda3\\envs\\lab\\lib\\site-packages (from cornac<2,>=1.15.2->recommenders) (1.5)\n",
      "Requirement already satisfied: six in c:\\users\\souha\\anaconda3\\envs\\lab\\lib\\site-packages (from hyperopt<1,>=0.2.7->recommenders) (1.16.0)\n",
      "Requirement already satisfied: networkx>=2.2 in c:\\users\\souha\\anaconda3\\envs\\lab\\lib\\site-packages (from hyperopt<1,>=0.2.7->recommenders) (3.3)\n",
      "Requirement already satisfied: future in c:\\users\\souha\\anaconda3\\envs\\lab\\lib\\site-packages (from hyperopt<1,>=0.2.7->recommenders) (1.0.0)\n",
      "Requirement already satisfied: cloudpickle in c:\\users\\souha\\anaconda3\\envs\\lab\\lib\\site-packages (from hyperopt<1,>=0.2.7->recommenders) (3.0.0)\n",
      "Requirement already satisfied: py4j in c:\\users\\souha\\anaconda3\\envs\\lab\\lib\\site-packages (from hyperopt<1,>=0.2.7->recommenders) (0.10.9.7)\n",
      "Requirement already satisfied: requests in c:\\users\\souha\\anaconda3\\envs\\lab\\lib\\site-packages (from lightfm<2,>=1.17->recommenders) (2.31.0)\n",
      "Requirement already satisfied: gevent>=22.10.2 in c:\\users\\souha\\anaconda3\\envs\\lab\\lib\\site-packages (from locust<3,>=2.12.2->recommenders) (24.2.1)\n",
      "Requirement already satisfied: flask>=2.0.0 in c:\\users\\souha\\anaconda3\\envs\\lab\\lib\\site-packages (from locust<3,>=2.12.2->recommenders) (3.0.3)\n",
      "Requirement already satisfied: Werkzeug>=2.0.0 in c:\\users\\souha\\anaconda3\\envs\\lab\\lib\\site-packages (from locust<3,>=2.12.2->recommenders) (3.0.3)\n",
      "Requirement already satisfied: msgpack>=1.0.0 in c:\\users\\souha\\anaconda3\\envs\\lab\\lib\\site-packages (from locust<3,>=2.12.2->recommenders) (1.0.8)\n",
      "Requirement already satisfied: pyzmq>=25.0.0 in c:\\users\\souha\\anaconda3\\envs\\lab\\lib\\site-packages (from locust<3,>=2.12.2->recommenders) (25.1.2)\n",
      "Requirement already satisfied: geventhttpclient>=2.3.1 in c:\\users\\souha\\anaconda3\\envs\\lab\\lib\\site-packages (from locust<3,>=2.12.2->recommenders) (2.3.1)\n",
      "Requirement already satisfied: ConfigArgParse>=1.5.5 in c:\\users\\souha\\anaconda3\\envs\\lab\\lib\\site-packages (from locust<3,>=2.12.2->recommenders) (1.7)\n",
      "Requirement already satisfied: psutil>=5.9.1 in c:\\users\\souha\\anaconda3\\envs\\lab\\lib\\site-packages (from locust<3,>=2.12.2->recommenders) (6.0.0)\n",
      "Requirement already satisfied: Flask-Login>=0.6.3 in c:\\users\\souha\\anaconda3\\envs\\lab\\lib\\site-packages (from locust<3,>=2.12.2->recommenders) (0.6.3)\n",
      "Requirement already satisfied: Flask-Cors>=3.0.10 in c:\\users\\souha\\anaconda3\\envs\\lab\\lib\\site-packages (from locust<3,>=2.12.2->recommenders) (4.0.1)\n",
      "Requirement already satisfied: pywin32 in c:\\users\\souha\\anaconda3\\envs\\lab\\lib\\site-packages (from locust<3,>=2.12.2->recommenders) (305.1)\n",
      "Requirement already satisfied: click in c:\\users\\souha\\anaconda3\\envs\\lab\\lib\\site-packages (from nltk<4,>=3.8.1->recommenders) (8.1.7)\n",
      "Requirement already satisfied: joblib in c:\\users\\souha\\anaconda3\\envs\\lab\\lib\\site-packages (from nltk<4,>=3.8.1->recommenders) (1.4.2)\n",
      "Requirement already satisfied: regex>=2021.8.3 in c:\\users\\souha\\anaconda3\\envs\\lab\\lib\\site-packages (from nltk<4,>=3.8.1->recommenders) (2024.5.15)\n",
      "Requirement already satisfied: jupyter-server<3,>=2.4.0 in c:\\users\\souha\\anaconda3\\envs\\lab\\lib\\site-packages (from notebook<8,>=7.0.0->recommenders) (2.14.2)\n",
      "Requirement already satisfied: jupyterlab-server<3,>=2.27.1 in c:\\users\\souha\\anaconda3\\envs\\lab\\lib\\site-packages (from notebook<8,>=7.0.0->recommenders) (2.27.3)\n",
      "Requirement already satisfied: jupyterlab<4.3,>=4.2.0 in c:\\users\\souha\\anaconda3\\envs\\lab\\lib\\site-packages (from notebook<8,>=7.0.0->recommenders) (4.2.4)\n",
      "Requirement already satisfied: notebook-shim<0.3,>=0.2 in c:\\users\\souha\\anaconda3\\envs\\lab\\lib\\site-packages (from notebook<8,>=7.0.0->recommenders) (0.2.4)\n",
      "Requirement already satisfied: tornado>=6.2.0 in c:\\users\\souha\\anaconda3\\envs\\lab\\lib\\site-packages (from notebook<8,>=7.0.0->recommenders) (6.3.3)\n",
      "Requirement already satisfied: llvmlite<0.44,>=0.43.0dev0 in c:\\users\\souha\\anaconda3\\envs\\lab\\lib\\site-packages (from numba<1,>=0.57.0->recommenders) (0.43.0)\n",
      "Requirement already satisfied: python-dateutil>=2.8.2 in c:\\users\\souha\\anaconda3\\envs\\lab\\lib\\site-packages (from pandas<3.0.0,>2.0.0->recommenders) (2.9.0)\n",
      "Requirement already satisfied: pytz>=2020.1 in c:\\users\\souha\\anaconda3\\envs\\lab\\lib\\site-packages (from pandas<3.0.0,>2.0.0->recommenders) (2024.1)\n",
      "Requirement already satisfied: tzdata>=2022.7 in c:\\users\\souha\\anaconda3\\envs\\lab\\lib\\site-packages (from pandas<3.0.0,>2.0.0->recommenders) (2024.1)\n",
      "Requirement already satisfied: multimethod<=1.10.0 in c:\\users\\souha\\anaconda3\\envs\\lab\\lib\\site-packages (from pandera>=0.15.0->pandera[strategies]>=0.15.0; python_version >= \"3.9\"->recommenders) (1.10)\n",
      "Requirement already satisfied: packaging>=20.0 in c:\\users\\souha\\anaconda3\\envs\\lab\\lib\\site-packages (from pandera>=0.15.0->pandera[strategies]>=0.15.0; python_version >= \"3.9\"->recommenders) (24.0)\n",
      "Requirement already satisfied: pydantic in c:\\users\\souha\\anaconda3\\envs\\lab\\lib\\site-packages (from pandera>=0.15.0->pandera[strategies]>=0.15.0; python_version >= \"3.9\"->recommenders) (2.8.2)\n",
      "Requirement already satisfied: typeguard in c:\\users\\souha\\anaconda3\\envs\\lab\\lib\\site-packages (from pandera>=0.15.0->pandera[strategies]>=0.15.0; python_version >= \"3.9\"->recommenders) (4.3.0)\n",
      "Requirement already satisfied: typing-inspect>=0.6.0 in c:\\users\\souha\\anaconda3\\envs\\lab\\lib\\site-packages (from pandera>=0.15.0->pandera[strategies]>=0.15.0; python_version >= \"3.9\"->recommenders) (0.9.0)\n",
      "Requirement already satisfied: wrapt in c:\\users\\souha\\anaconda3\\envs\\lab\\lib\\site-packages (from pandera>=0.15.0->pandera[strategies]>=0.15.0; python_version >= \"3.9\"->recommenders) (1.16.0)\n",
      "Requirement already satisfied: hypothesis>=6.92.7 in c:\\users\\souha\\anaconda3\\envs\\lab\\lib\\site-packages (from pandera[strategies]>=0.15.0; python_version >= \"3.9\"->recommenders) (6.108.4)\n",
      "Requirement already satisfied: threadpoolctl>=3.1.0 in c:\\users\\souha\\anaconda3\\envs\\lab\\lib\\site-packages (from scikit-learn<2,>=1.2.0->recommenders) (3.5.0)\n",
      "Requirement already satisfied: matplotlib!=3.6.1,>=3.4 in c:\\users\\souha\\anaconda3\\envs\\lab\\lib\\site-packages (from seaborn<1,>=0.13.0->recommenders) (3.8.4)\n",
      "Requirement already satisfied: filelock in c:\\users\\souha\\anaconda3\\envs\\lab\\lib\\site-packages (from transformers<5,>=4.27.0->recommenders) (3.15.4)\n",
      "Requirement already satisfied: huggingface-hub<1.0,>=0.23.2 in c:\\users\\souha\\anaconda3\\envs\\lab\\lib\\site-packages (from transformers<5,>=4.27.0->recommenders) (0.24.1)\n",
      "Requirement already satisfied: pyyaml>=5.1 in c:\\users\\souha\\anaconda3\\envs\\lab\\lib\\site-packages (from transformers<5,>=4.27.0->recommenders) (6.0.1)\n",
      "Requirement already satisfied: tokenizers<0.20,>=0.19 in c:\\users\\souha\\anaconda3\\envs\\lab\\lib\\site-packages (from transformers<5,>=4.27.0->recommenders) (0.19.1)\n",
      "Requirement already satisfied: safetensors>=0.4.1 in c:\\users\\souha\\anaconda3\\envs\\lab\\lib\\site-packages (from transformers<5,>=4.27.0->recommenders) (0.4.3)\n",
      "Requirement already satisfied: Jinja2>=3.1.2 in c:\\users\\souha\\anaconda3\\envs\\lab\\lib\\site-packages (from flask>=2.0.0->locust<3,>=2.12.2->recommenders) (3.1.3)\n",
      "Requirement already satisfied: itsdangerous>=2.1.2 in c:\\users\\souha\\anaconda3\\envs\\lab\\lib\\site-packages (from flask>=2.0.0->locust<3,>=2.12.2->recommenders) (2.2.0)\n",
      "Requirement already satisfied: blinker>=1.6.2 in c:\\users\\souha\\anaconda3\\envs\\lab\\lib\\site-packages (from flask>=2.0.0->locust<3,>=2.12.2->recommenders) (1.8.2)\n",
      "Requirement already satisfied: colorama in c:\\users\\souha\\anaconda3\\envs\\lab\\lib\\site-packages (from click->nltk<4,>=3.8.1->recommenders) (0.4.6)\n",
      "Requirement already satisfied: zope.event in c:\\users\\souha\\anaconda3\\envs\\lab\\lib\\site-packages (from gevent>=22.10.2->locust<3,>=2.12.2->recommenders) (5.0)\n",
      "Requirement already satisfied: zope.interface in c:\\users\\souha\\anaconda3\\envs\\lab\\lib\\site-packages (from gevent>=22.10.2->locust<3,>=2.12.2->recommenders) (6.4.post2)\n",
      "Requirement already satisfied: greenlet>=3.0rc3 in c:\\users\\souha\\anaconda3\\envs\\lab\\lib\\site-packages (from gevent>=22.10.2->locust<3,>=2.12.2->recommenders) (3.0.3)\n",
      "Requirement already satisfied: cffi>=1.12.2 in c:\\users\\souha\\anaconda3\\envs\\lab\\lib\\site-packages (from gevent>=22.10.2->locust<3,>=2.12.2->recommenders) (1.16.0)\n",
      "Requirement already satisfied: certifi in c:\\users\\souha\\anaconda3\\envs\\lab\\lib\\site-packages (from geventhttpclient>=2.3.1->locust<3,>=2.12.2->recommenders) (2024.2.2)\n",
      "Requirement already satisfied: brotli in c:\\users\\souha\\anaconda3\\envs\\lab\\lib\\site-packages (from geventhttpclient>=2.3.1->locust<3,>=2.12.2->recommenders) (1.1.0)\n",
      "Requirement already satisfied: urllib3 in c:\\users\\souha\\anaconda3\\envs\\lab\\lib\\site-packages (from geventhttpclient>=2.3.1->locust<3,>=2.12.2->recommenders) (2.2.1)\n",
      "Requirement already satisfied: fsspec>=2023.5.0 in c:\\users\\souha\\anaconda3\\envs\\lab\\lib\\site-packages (from huggingface-hub<1.0,>=0.23.2->transformers<5,>=4.27.0->recommenders) (2024.6.1)\n",
      "Requirement already satisfied: typing-extensions>=3.7.4.3 in c:\\users\\souha\\anaconda3\\envs\\lab\\lib\\site-packages (from huggingface-hub<1.0,>=0.23.2->transformers<5,>=4.27.0->recommenders) (4.11.0)\n",
      "Requirement already satisfied: attrs>=22.2.0 in c:\\users\\souha\\anaconda3\\envs\\lab\\lib\\site-packages (from hypothesis>=6.92.7->pandera[strategies]>=0.15.0; python_version >= \"3.9\"->recommenders) (23.2.0)\n",
      "Requirement already satisfied: sortedcontainers<3.0.0,>=2.1.0 in c:\\users\\souha\\anaconda3\\envs\\lab\\lib\\site-packages (from hypothesis>=6.92.7->pandera[strategies]>=0.15.0; python_version >= \"3.9\"->recommenders) (2.4.0)\n",
      "Requirement already satisfied: anyio>=3.1.0 in c:\\users\\souha\\anaconda3\\envs\\lab\\lib\\site-packages (from jupyter-server<3,>=2.4.0->notebook<8,>=7.0.0->recommenders) (4.4.0)\n",
      "Requirement already satisfied: argon2-cffi>=21.1 in c:\\users\\souha\\anaconda3\\envs\\lab\\lib\\site-packages (from jupyter-server<3,>=2.4.0->notebook<8,>=7.0.0->recommenders) (23.1.0)\n",
      "Requirement already satisfied: jupyter-client>=7.4.4 in c:\\users\\souha\\anaconda3\\envs\\lab\\lib\\site-packages (from jupyter-server<3,>=2.4.0->notebook<8,>=7.0.0->recommenders) (8.6.1)\n",
      "Requirement already satisfied: jupyter-core!=5.0.*,>=4.12 in c:\\users\\souha\\anaconda3\\envs\\lab\\lib\\site-packages (from jupyter-server<3,>=2.4.0->notebook<8,>=7.0.0->recommenders) (5.7.2)\n",
      "Requirement already satisfied: jupyter-events>=0.9.0 in c:\\users\\souha\\anaconda3\\envs\\lab\\lib\\site-packages (from jupyter-server<3,>=2.4.0->notebook<8,>=7.0.0->recommenders) (0.10.0)\n",
      "Requirement already satisfied: jupyter-server-terminals>=0.4.4 in c:\\users\\souha\\anaconda3\\envs\\lab\\lib\\site-packages (from jupyter-server<3,>=2.4.0->notebook<8,>=7.0.0->recommenders) (0.5.3)\n",
      "Requirement already satisfied: nbconvert>=6.4.4 in c:\\users\\souha\\anaconda3\\envs\\lab\\lib\\site-packages (from jupyter-server<3,>=2.4.0->notebook<8,>=7.0.0->recommenders) (7.16.4)\n",
      "Requirement already satisfied: nbformat>=5.3.0 in c:\\users\\souha\\anaconda3\\envs\\lab\\lib\\site-packages (from jupyter-server<3,>=2.4.0->notebook<8,>=7.0.0->recommenders) (5.10.4)\n",
      "Requirement already satisfied: overrides>=5.0 in c:\\users\\souha\\anaconda3\\envs\\lab\\lib\\site-packages (from jupyter-server<3,>=2.4.0->notebook<8,>=7.0.0->recommenders) (7.7.0)\n",
      "Requirement already satisfied: prometheus-client>=0.9 in c:\\users\\souha\\anaconda3\\envs\\lab\\lib\\site-packages (from jupyter-server<3,>=2.4.0->notebook<8,>=7.0.0->recommenders) (0.20.0)\n",
      "Requirement already satisfied: pywinpty>=2.0.1 in c:\\users\\souha\\anaconda3\\envs\\lab\\lib\\site-packages (from jupyter-server<3,>=2.4.0->notebook<8,>=7.0.0->recommenders) (2.0.13)\n",
      "Requirement already satisfied: send2trash>=1.8.2 in c:\\users\\souha\\anaconda3\\envs\\lab\\lib\\site-packages (from jupyter-server<3,>=2.4.0->notebook<8,>=7.0.0->recommenders) (1.8.3)\n",
      "Requirement already satisfied: terminado>=0.8.3 in c:\\users\\souha\\anaconda3\\envs\\lab\\lib\\site-packages (from jupyter-server<3,>=2.4.0->notebook<8,>=7.0.0->recommenders) (0.18.1)\n",
      "Requirement already satisfied: traitlets>=5.6.0 in c:\\users\\souha\\anaconda3\\envs\\lab\\lib\\site-packages (from jupyter-server<3,>=2.4.0->notebook<8,>=7.0.0->recommenders) (5.14.2)\n",
      "Requirement already satisfied: websocket-client>=1.7 in c:\\users\\souha\\anaconda3\\envs\\lab\\lib\\site-packages (from jupyter-server<3,>=2.4.0->notebook<8,>=7.0.0->recommenders) (1.8.0)\n",
      "Requirement already satisfied: async-lru>=1.0.0 in c:\\users\\souha\\anaconda3\\envs\\lab\\lib\\site-packages (from jupyterlab<4.3,>=4.2.0->notebook<8,>=7.0.0->recommenders) (2.0.4)\n",
      "Requirement already satisfied: httpx>=0.25.0 in c:\\users\\souha\\anaconda3\\envs\\lab\\lib\\site-packages (from jupyterlab<4.3,>=4.2.0->notebook<8,>=7.0.0->recommenders) (0.27.0)\n",
      "Requirement already satisfied: ipykernel>=6.5.0 in c:\\users\\souha\\anaconda3\\envs\\lab\\lib\\site-packages (from jupyterlab<4.3,>=4.2.0->notebook<8,>=7.0.0->recommenders) (6.29.3)\n",
      "Requirement already satisfied: jupyter-lsp>=2.0.0 in c:\\users\\souha\\anaconda3\\envs\\lab\\lib\\site-packages (from jupyterlab<4.3,>=4.2.0->notebook<8,>=7.0.0->recommenders) (2.2.5)\n",
      "Requirement already satisfied: setuptools>=40.1.0 in c:\\users\\souha\\anaconda3\\envs\\lab\\lib\\site-packages (from jupyterlab<4.3,>=4.2.0->notebook<8,>=7.0.0->recommenders) (74.1.2)\n",
      "Requirement already satisfied: babel>=2.10 in c:\\users\\souha\\anaconda3\\envs\\lab\\lib\\site-packages (from jupyterlab-server<3,>=2.27.1->notebook<8,>=7.0.0->recommenders) (2.15.0)\n",
      "Requirement already satisfied: json5>=0.9.0 in c:\\users\\souha\\anaconda3\\envs\\lab\\lib\\site-packages (from jupyterlab-server<3,>=2.27.1->notebook<8,>=7.0.0->recommenders) (0.9.25)\n",
      "Requirement already satisfied: jsonschema>=4.18.0 in c:\\users\\souha\\anaconda3\\envs\\lab\\lib\\site-packages (from jupyterlab-server<3,>=2.27.1->notebook<8,>=7.0.0->recommenders) (4.23.0)\n",
      "Requirement already satisfied: contourpy>=1.0.1 in c:\\users\\souha\\anaconda3\\envs\\lab\\lib\\site-packages (from matplotlib!=3.6.1,>=3.4->seaborn<1,>=0.13.0->recommenders) (1.2.1)\n",
      "Requirement already satisfied: cycler>=0.10 in c:\\users\\souha\\anaconda3\\envs\\lab\\lib\\site-packages (from matplotlib!=3.6.1,>=3.4->seaborn<1,>=0.13.0->recommenders) (0.12.1)\n",
      "Requirement already satisfied: fonttools>=4.22.0 in c:\\users\\souha\\anaconda3\\envs\\lab\\lib\\site-packages (from matplotlib!=3.6.1,>=3.4->seaborn<1,>=0.13.0->recommenders) (4.51.0)\n",
      "Requirement already satisfied: kiwisolver>=1.3.1 in c:\\users\\souha\\anaconda3\\envs\\lab\\lib\\site-packages (from matplotlib!=3.6.1,>=3.4->seaborn<1,>=0.13.0->recommenders) (1.4.5)\n",
      "Requirement already satisfied: pillow>=8 in c:\\users\\souha\\anaconda3\\envs\\lab\\lib\\site-packages (from matplotlib!=3.6.1,>=3.4->seaborn<1,>=0.13.0->recommenders) (10.3.0)\n",
      "Requirement already satisfied: pyparsing>=2.3.1 in c:\\users\\souha\\anaconda3\\envs\\lab\\lib\\site-packages (from matplotlib!=3.6.1,>=3.4->seaborn<1,>=0.13.0->recommenders) (3.1.2)\n",
      "Requirement already satisfied: charset-normalizer<4,>=2 in c:\\users\\souha\\anaconda3\\envs\\lab\\lib\\site-packages (from requests->lightfm<2,>=1.17->recommenders) (3.3.2)\n",
      "Requirement already satisfied: idna<4,>=2.5 in c:\\users\\souha\\anaconda3\\envs\\lab\\lib\\site-packages (from requests->lightfm<2,>=1.17->recommenders) (3.7)\n",
      "Requirement already satisfied: mypy-extensions>=0.3.0 in c:\\users\\souha\\anaconda3\\envs\\lab\\lib\\site-packages (from typing-inspect>=0.6.0->pandera>=0.15.0->pandera[strategies]>=0.15.0; python_version >= \"3.9\"->recommenders) (1.0.0)\n",
      "Requirement already satisfied: MarkupSafe>=2.1.1 in c:\\users\\souha\\anaconda3\\envs\\lab\\lib\\site-packages (from Werkzeug>=2.0.0->locust<3,>=2.12.2->recommenders) (2.1.5)\n",
      "Requirement already satisfied: mpmath in c:\\users\\souha\\anaconda3\\envs\\lab\\lib\\site-packages (from powerlaw->cornac<2,>=1.15.2->recommenders) (1.3.0)\n",
      "Requirement already satisfied: annotated-types>=0.4.0 in c:\\users\\souha\\anaconda3\\envs\\lab\\lib\\site-packages (from pydantic->pandera>=0.15.0->pandera[strategies]>=0.15.0; python_version >= \"3.9\"->recommenders) (0.7.0)\n",
      "Requirement already satisfied: pydantic-core==2.20.1 in c:\\users\\souha\\anaconda3\\envs\\lab\\lib\\site-packages (from pydantic->pandera>=0.15.0->pandera[strategies]>=0.15.0; python_version >= \"3.9\"->recommenders) (2.20.1)\n",
      "Requirement already satisfied: sniffio>=1.1 in c:\\users\\souha\\anaconda3\\envs\\lab\\lib\\site-packages (from anyio>=3.1.0->jupyter-server<3,>=2.4.0->notebook<8,>=7.0.0->recommenders) (1.3.1)\n",
      "Requirement already satisfied: argon2-cffi-bindings in c:\\users\\souha\\anaconda3\\envs\\lab\\lib\\site-packages (from argon2-cffi>=21.1->jupyter-server<3,>=2.4.0->notebook<8,>=7.0.0->recommenders) (21.2.0)\n",
      "Requirement already satisfied: pycparser in c:\\users\\souha\\anaconda3\\envs\\lab\\lib\\site-packages (from cffi>=1.12.2->gevent>=22.10.2->locust<3,>=2.12.2->recommenders) (2.22)\n",
      "Requirement already satisfied: httpcore==1.* in c:\\users\\souha\\anaconda3\\envs\\lab\\lib\\site-packages (from httpx>=0.25.0->jupyterlab<4.3,>=4.2.0->notebook<8,>=7.0.0->recommenders) (1.0.5)\n",
      "Requirement already satisfied: h11<0.15,>=0.13 in c:\\users\\souha\\anaconda3\\envs\\lab\\lib\\site-packages (from httpcore==1.*->httpx>=0.25.0->jupyterlab<4.3,>=4.2.0->notebook<8,>=7.0.0->recommenders) (0.14.0)\n",
      "Requirement already satisfied: comm>=0.1.1 in c:\\users\\souha\\anaconda3\\envs\\lab\\lib\\site-packages (from ipykernel>=6.5.0->jupyterlab<4.3,>=4.2.0->notebook<8,>=7.0.0->recommenders) (0.2.2)\n",
      "Requirement already satisfied: debugpy>=1.6.5 in c:\\users\\souha\\anaconda3\\envs\\lab\\lib\\site-packages (from ipykernel>=6.5.0->jupyterlab<4.3,>=4.2.0->notebook<8,>=7.0.0->recommenders) (1.6.7)\n",
      "Requirement already satisfied: ipython>=7.23.1 in c:\\users\\souha\\anaconda3\\envs\\lab\\lib\\site-packages (from ipykernel>=6.5.0->jupyterlab<4.3,>=4.2.0->notebook<8,>=7.0.0->recommenders) (8.22.2)\n",
      "Requirement already satisfied: matplotlib-inline>=0.1 in c:\\users\\souha\\anaconda3\\envs\\lab\\lib\\site-packages (from ipykernel>=6.5.0->jupyterlab<4.3,>=4.2.0->notebook<8,>=7.0.0->recommenders) (0.1.7)\n",
      "Requirement already satisfied: nest-asyncio in c:\\users\\souha\\anaconda3\\envs\\lab\\lib\\site-packages (from ipykernel>=6.5.0->jupyterlab<4.3,>=4.2.0->notebook<8,>=7.0.0->recommenders) (1.6.0)\n",
      "Requirement already satisfied: jsonschema-specifications>=2023.03.6 in c:\\users\\souha\\anaconda3\\envs\\lab\\lib\\site-packages (from jsonschema>=4.18.0->jupyterlab-server<3,>=2.27.1->notebook<8,>=7.0.0->recommenders) (2023.12.1)\n",
      "Requirement already satisfied: referencing>=0.28.4 in c:\\users\\souha\\anaconda3\\envs\\lab\\lib\\site-packages (from jsonschema>=4.18.0->jupyterlab-server<3,>=2.27.1->notebook<8,>=7.0.0->recommenders) (0.35.1)\n",
      "Requirement already satisfied: rpds-py>=0.7.1 in c:\\users\\souha\\anaconda3\\envs\\lab\\lib\\site-packages (from jsonschema>=4.18.0->jupyterlab-server<3,>=2.27.1->notebook<8,>=7.0.0->recommenders) (0.19.0)\n",
      "Requirement already satisfied: platformdirs>=2.5 in c:\\users\\souha\\anaconda3\\envs\\lab\\lib\\site-packages (from jupyter-core!=5.0.*,>=4.12->jupyter-server<3,>=2.4.0->notebook<8,>=7.0.0->recommenders) (4.2.0)\n",
      "Requirement already satisfied: python-json-logger>=2.0.4 in c:\\users\\souha\\anaconda3\\envs\\lab\\lib\\site-packages (from jupyter-events>=0.9.0->jupyter-server<3,>=2.4.0->notebook<8,>=7.0.0->recommenders) (2.0.7)\n",
      "Requirement already satisfied: rfc3339-validator in c:\\users\\souha\\anaconda3\\envs\\lab\\lib\\site-packages (from jupyter-events>=0.9.0->jupyter-server<3,>=2.4.0->notebook<8,>=7.0.0->recommenders) (0.1.4)\n",
      "Requirement already satisfied: rfc3986-validator>=0.1.1 in c:\\users\\souha\\anaconda3\\envs\\lab\\lib\\site-packages (from jupyter-events>=0.9.0->jupyter-server<3,>=2.4.0->notebook<8,>=7.0.0->recommenders) (0.1.1)\n",
      "Requirement already satisfied: beautifulsoup4 in c:\\users\\souha\\anaconda3\\envs\\lab\\lib\\site-packages (from nbconvert>=6.4.4->jupyter-server<3,>=2.4.0->notebook<8,>=7.0.0->recommenders) (4.12.3)\n",
      "Requirement already satisfied: bleach!=5.0.0 in c:\\users\\souha\\anaconda3\\envs\\lab\\lib\\site-packages (from nbconvert>=6.4.4->jupyter-server<3,>=2.4.0->notebook<8,>=7.0.0->recommenders) (6.1.0)\n",
      "Requirement already satisfied: defusedxml in c:\\users\\souha\\anaconda3\\envs\\lab\\lib\\site-packages (from nbconvert>=6.4.4->jupyter-server<3,>=2.4.0->notebook<8,>=7.0.0->recommenders) (0.7.1)\n",
      "Requirement already satisfied: jupyterlab-pygments in c:\\users\\souha\\anaconda3\\envs\\lab\\lib\\site-packages (from nbconvert>=6.4.4->jupyter-server<3,>=2.4.0->notebook<8,>=7.0.0->recommenders) (0.3.0)\n",
      "Requirement already satisfied: mistune<4,>=2.0.3 in c:\\users\\souha\\anaconda3\\envs\\lab\\lib\\site-packages (from nbconvert>=6.4.4->jupyter-server<3,>=2.4.0->notebook<8,>=7.0.0->recommenders) (3.0.2)\n",
      "Requirement already satisfied: nbclient>=0.5.0 in c:\\users\\souha\\anaconda3\\envs\\lab\\lib\\site-packages (from nbconvert>=6.4.4->jupyter-server<3,>=2.4.0->notebook<8,>=7.0.0->recommenders) (0.10.0)\n",
      "Requirement already satisfied: pandocfilters>=1.4.1 in c:\\users\\souha\\anaconda3\\envs\\lab\\lib\\site-packages (from nbconvert>=6.4.4->jupyter-server<3,>=2.4.0->notebook<8,>=7.0.0->recommenders) (1.5.1)\n",
      "Requirement already satisfied: pygments>=2.4.1 in c:\\users\\souha\\anaconda3\\envs\\lab\\lib\\site-packages (from nbconvert>=6.4.4->jupyter-server<3,>=2.4.0->notebook<8,>=7.0.0->recommenders) (2.17.2)\n",
      "Requirement already satisfied: tinycss2 in c:\\users\\souha\\anaconda3\\envs\\lab\\lib\\site-packages (from nbconvert>=6.4.4->jupyter-server<3,>=2.4.0->notebook<8,>=7.0.0->recommenders) (1.3.0)\n",
      "Requirement already satisfied: fastjsonschema>=2.15 in c:\\users\\souha\\anaconda3\\envs\\lab\\lib\\site-packages (from nbformat>=5.3.0->jupyter-server<3,>=2.4.0->notebook<8,>=7.0.0->recommenders) (2.20.0)\n",
      "Requirement already satisfied: webencodings in c:\\users\\souha\\anaconda3\\envs\\lab\\lib\\site-packages (from bleach!=5.0.0->nbconvert>=6.4.4->jupyter-server<3,>=2.4.0->notebook<8,>=7.0.0->recommenders) (0.5.1)\n",
      "Requirement already satisfied: decorator in c:\\users\\souha\\anaconda3\\envs\\lab\\lib\\site-packages (from ipython>=7.23.1->ipykernel>=6.5.0->jupyterlab<4.3,>=4.2.0->notebook<8,>=7.0.0->recommenders) (5.1.1)\n",
      "Requirement already satisfied: jedi>=0.16 in c:\\users\\souha\\anaconda3\\envs\\lab\\lib\\site-packages (from ipython>=7.23.1->ipykernel>=6.5.0->jupyterlab<4.3,>=4.2.0->notebook<8,>=7.0.0->recommenders) (0.19.1)\n",
      "Requirement already satisfied: prompt-toolkit<3.1.0,>=3.0.41 in c:\\users\\souha\\anaconda3\\envs\\lab\\lib\\site-packages (from ipython>=7.23.1->ipykernel>=6.5.0->jupyterlab<4.3,>=4.2.0->notebook<8,>=7.0.0->recommenders) (3.0.42)\n",
      "Requirement already satisfied: stack-data in c:\\users\\souha\\anaconda3\\envs\\lab\\lib\\site-packages (from ipython>=7.23.1->ipykernel>=6.5.0->jupyterlab<4.3,>=4.2.0->notebook<8,>=7.0.0->recommenders) (0.6.2)\n",
      "Requirement already satisfied: fqdn in c:\\users\\souha\\anaconda3\\envs\\lab\\lib\\site-packages (from jsonschema[format-nongpl]>=4.18.0->jupyter-events>=0.9.0->jupyter-server<3,>=2.4.0->notebook<8,>=7.0.0->recommenders) (1.5.1)\n",
      "Requirement already satisfied: isoduration in c:\\users\\souha\\anaconda3\\envs\\lab\\lib\\site-packages (from jsonschema[format-nongpl]>=4.18.0->jupyter-events>=0.9.0->jupyter-server<3,>=2.4.0->notebook<8,>=7.0.0->recommenders) (20.11.0)\n",
      "Requirement already satisfied: jsonpointer>1.13 in c:\\users\\souha\\anaconda3\\envs\\lab\\lib\\site-packages (from jsonschema[format-nongpl]>=4.18.0->jupyter-events>=0.9.0->jupyter-server<3,>=2.4.0->notebook<8,>=7.0.0->recommenders) (3.0.0)\n",
      "Requirement already satisfied: uri-template in c:\\users\\souha\\anaconda3\\envs\\lab\\lib\\site-packages (from jsonschema[format-nongpl]>=4.18.0->jupyter-events>=0.9.0->jupyter-server<3,>=2.4.0->notebook<8,>=7.0.0->recommenders) (1.3.0)\n",
      "Requirement already satisfied: webcolors>=24.6.0 in c:\\users\\souha\\anaconda3\\envs\\lab\\lib\\site-packages (from jsonschema[format-nongpl]>=4.18.0->jupyter-events>=0.9.0->jupyter-server<3,>=2.4.0->notebook<8,>=7.0.0->recommenders) (24.6.0)\n",
      "Requirement already satisfied: soupsieve>1.2 in c:\\users\\souha\\anaconda3\\envs\\lab\\lib\\site-packages (from beautifulsoup4->nbconvert>=6.4.4->jupyter-server<3,>=2.4.0->notebook<8,>=7.0.0->recommenders) (2.5)\n",
      "Requirement already satisfied: parso<0.9.0,>=0.8.3 in c:\\users\\souha\\anaconda3\\envs\\lab\\lib\\site-packages (from jedi>=0.16->ipython>=7.23.1->ipykernel>=6.5.0->jupyterlab<4.3,>=4.2.0->notebook<8,>=7.0.0->recommenders) (0.8.4)\n",
      "Requirement already satisfied: wcwidth in c:\\users\\souha\\anaconda3\\envs\\lab\\lib\\site-packages (from prompt-toolkit<3.1.0,>=3.0.41->ipython>=7.23.1->ipykernel>=6.5.0->jupyterlab<4.3,>=4.2.0->notebook<8,>=7.0.0->recommenders) (0.2.13)\n",
      "Requirement already satisfied: arrow>=0.15.0 in c:\\users\\souha\\anaconda3\\envs\\lab\\lib\\site-packages (from isoduration->jsonschema[format-nongpl]>=4.18.0->jupyter-events>=0.9.0->jupyter-server<3,>=2.4.0->notebook<8,>=7.0.0->recommenders) (1.3.0)\n",
      "Requirement already satisfied: executing>=1.2.0 in c:\\users\\souha\\anaconda3\\envs\\lab\\lib\\site-packages (from stack-data->ipython>=7.23.1->ipykernel>=6.5.0->jupyterlab<4.3,>=4.2.0->notebook<8,>=7.0.0->recommenders) (2.0.1)\n",
      "Requirement already satisfied: asttokens>=2.1.0 in c:\\users\\souha\\anaconda3\\envs\\lab\\lib\\site-packages (from stack-data->ipython>=7.23.1->ipykernel>=6.5.0->jupyterlab<4.3,>=4.2.0->notebook<8,>=7.0.0->recommenders) (2.4.1)\n",
      "Requirement already satisfied: pure-eval in c:\\users\\souha\\anaconda3\\envs\\lab\\lib\\site-packages (from stack-data->ipython>=7.23.1->ipykernel>=6.5.0->jupyterlab<4.3,>=4.2.0->notebook<8,>=7.0.0->recommenders) (0.2.2)\n",
      "Requirement already satisfied: types-python-dateutil>=2.8.10 in c:\\users\\souha\\anaconda3\\envs\\lab\\lib\\site-packages (from arrow>=0.15.0->isoduration->jsonschema[format-nongpl]>=4.18.0->jupyter-events>=0.9.0->jupyter-server<3,>=2.4.0->notebook<8,>=7.0.0->recommenders) (2.9.0.20240316)\n"
     ]
    }
   ],
   "source": [
    "!pip install recommenders"
   ]
  },
  {
   "cell_type": "code",
   "execution_count": 4,
   "metadata": {},
   "outputs": [],
   "source": [
    "import pandas as pd\n",
    "from datetime import datetime, timedelta\n",
    "\n",
    "from recommenders.datasets.download_utils import maybe_download\n",
    "from recommenders.datasets.python_splitters import (\n",
    "    python_random_split, \n",
    "    python_chrono_split, \n",
    "    python_stratified_split\n",
    ")\n"
   ]
  },
  {
   "cell_type": "code",
   "execution_count": 5,
   "metadata": {},
   "outputs": [],
   "source": [
    "DATA_URL = \"https://files.grouplens.org/datasets/movielens/ml-100k/u.data\"\n",
    "DATA_PATH = \"ml-100k.data\"\n",
    "\n",
    "COL_USER = \"UserId\"\n",
    "COL_ITEM = \"MovieId\"\n",
    "COL_RATING = \"Rating\"\n",
    "COL_PREDICTION = \"Rating\"\n",
    "COL_TIMESTAMP = \"Timestamp\""
   ]
  },
  {
   "cell_type": "markdown",
   "metadata": {},
   "source": [
    "## 1 Data preparation"
   ]
  },
  {
   "cell_type": "markdown",
   "metadata": {},
   "source": [
    "### 1.1 Data understanding"
   ]
  },
  {
   "cell_type": "markdown",
   "metadata": {},
   "source": [
    "For illustration purpose, the data used in the examples below is the MovieLens-100K dataset."
   ]
  },
  {
   "cell_type": "code",
   "execution_count": 6,
   "metadata": {},
   "outputs": [],
   "source": [
    "filepath = maybe_download(DATA_URL, DATA_PATH)"
   ]
  },
  {
   "cell_type": "code",
   "execution_count": 7,
   "metadata": {},
   "outputs": [],
   "source": [
    "data = pd.read_csv(filepath, sep=\"\\t\", names=[COL_USER, COL_ITEM, COL_RATING, COL_TIMESTAMP])"
   ]
  },
  {
   "cell_type": "markdown",
   "metadata": {},
   "source": [
    "A glimpse at the data"
   ]
  },
  {
   "cell_type": "code",
   "execution_count": 8,
   "metadata": {},
   "outputs": [
    {
     "data": {
      "text/html": [
       "<div>\n",
       "<style scoped>\n",
       "    .dataframe tbody tr th:only-of-type {\n",
       "        vertical-align: middle;\n",
       "    }\n",
       "\n",
       "    .dataframe tbody tr th {\n",
       "        vertical-align: top;\n",
       "    }\n",
       "\n",
       "    .dataframe thead th {\n",
       "        text-align: right;\n",
       "    }\n",
       "</style>\n",
       "<table border=\"1\" class=\"dataframe\">\n",
       "  <thead>\n",
       "    <tr style=\"text-align: right;\">\n",
       "      <th></th>\n",
       "      <th>UserId</th>\n",
       "      <th>MovieId</th>\n",
       "      <th>Rating</th>\n",
       "      <th>Timestamp</th>\n",
       "    </tr>\n",
       "  </thead>\n",
       "  <tbody>\n",
       "    <tr>\n",
       "      <th>0</th>\n",
       "      <td>196</td>\n",
       "      <td>242</td>\n",
       "      <td>3</td>\n",
       "      <td>881250949</td>\n",
       "    </tr>\n",
       "    <tr>\n",
       "      <th>1</th>\n",
       "      <td>186</td>\n",
       "      <td>302</td>\n",
       "      <td>3</td>\n",
       "      <td>891717742</td>\n",
       "    </tr>\n",
       "    <tr>\n",
       "      <th>2</th>\n",
       "      <td>22</td>\n",
       "      <td>377</td>\n",
       "      <td>1</td>\n",
       "      <td>878887116</td>\n",
       "    </tr>\n",
       "    <tr>\n",
       "      <th>3</th>\n",
       "      <td>244</td>\n",
       "      <td>51</td>\n",
       "      <td>2</td>\n",
       "      <td>880606923</td>\n",
       "    </tr>\n",
       "    <tr>\n",
       "      <th>4</th>\n",
       "      <td>166</td>\n",
       "      <td>346</td>\n",
       "      <td>1</td>\n",
       "      <td>886397596</td>\n",
       "    </tr>\n",
       "  </tbody>\n",
       "</table>\n",
       "</div>"
      ],
      "text/plain": [
       "   UserId  MovieId  Rating  Timestamp\n",
       "0     196      242       3  881250949\n",
       "1     186      302       3  891717742\n",
       "2      22      377       1  878887116\n",
       "3     244       51       2  880606923\n",
       "4     166      346       1  886397596"
      ]
     },
     "execution_count": 8,
     "metadata": {},
     "output_type": "execute_result"
    }
   ],
   "source": [
    "data.head()"
   ]
  },
  {
   "cell_type": "markdown",
   "metadata": {},
   "source": [
    "A little more..."
   ]
  },
  {
   "cell_type": "code",
   "execution_count": 9,
   "metadata": {},
   "outputs": [
    {
     "data": {
      "text/html": [
       "<div>\n",
       "<style scoped>\n",
       "    .dataframe tbody tr th:only-of-type {\n",
       "        vertical-align: middle;\n",
       "    }\n",
       "\n",
       "    .dataframe tbody tr th {\n",
       "        vertical-align: top;\n",
       "    }\n",
       "\n",
       "    .dataframe thead th {\n",
       "        text-align: right;\n",
       "    }\n",
       "</style>\n",
       "<table border=\"1\" class=\"dataframe\">\n",
       "  <thead>\n",
       "    <tr style=\"text-align: right;\">\n",
       "      <th></th>\n",
       "      <th>UserId</th>\n",
       "      <th>MovieId</th>\n",
       "      <th>Rating</th>\n",
       "      <th>Timestamp</th>\n",
       "    </tr>\n",
       "  </thead>\n",
       "  <tbody>\n",
       "    <tr>\n",
       "      <th>0</th>\n",
       "      <td>196</td>\n",
       "      <td>242</td>\n",
       "      <td>3</td>\n",
       "      <td>881250949</td>\n",
       "    </tr>\n",
       "    <tr>\n",
       "      <th>1</th>\n",
       "      <td>186</td>\n",
       "      <td>302</td>\n",
       "      <td>3</td>\n",
       "      <td>891717742</td>\n",
       "    </tr>\n",
       "    <tr>\n",
       "      <th>2</th>\n",
       "      <td>22</td>\n",
       "      <td>377</td>\n",
       "      <td>1</td>\n",
       "      <td>878887116</td>\n",
       "    </tr>\n",
       "    <tr>\n",
       "      <th>3</th>\n",
       "      <td>244</td>\n",
       "      <td>51</td>\n",
       "      <td>2</td>\n",
       "      <td>880606923</td>\n",
       "    </tr>\n",
       "    <tr>\n",
       "      <th>4</th>\n",
       "      <td>166</td>\n",
       "      <td>346</td>\n",
       "      <td>1</td>\n",
       "      <td>886397596</td>\n",
       "    </tr>\n",
       "    <tr>\n",
       "      <th>...</th>\n",
       "      <td>...</td>\n",
       "      <td>...</td>\n",
       "      <td>...</td>\n",
       "      <td>...</td>\n",
       "    </tr>\n",
       "    <tr>\n",
       "      <th>99995</th>\n",
       "      <td>880</td>\n",
       "      <td>476</td>\n",
       "      <td>3</td>\n",
       "      <td>880175444</td>\n",
       "    </tr>\n",
       "    <tr>\n",
       "      <th>99996</th>\n",
       "      <td>716</td>\n",
       "      <td>204</td>\n",
       "      <td>5</td>\n",
       "      <td>879795543</td>\n",
       "    </tr>\n",
       "    <tr>\n",
       "      <th>99997</th>\n",
       "      <td>276</td>\n",
       "      <td>1090</td>\n",
       "      <td>1</td>\n",
       "      <td>874795795</td>\n",
       "    </tr>\n",
       "    <tr>\n",
       "      <th>99998</th>\n",
       "      <td>13</td>\n",
       "      <td>225</td>\n",
       "      <td>2</td>\n",
       "      <td>882399156</td>\n",
       "    </tr>\n",
       "    <tr>\n",
       "      <th>99999</th>\n",
       "      <td>12</td>\n",
       "      <td>203</td>\n",
       "      <td>3</td>\n",
       "      <td>879959583</td>\n",
       "    </tr>\n",
       "  </tbody>\n",
       "</table>\n",
       "<p>100000 rows × 4 columns</p>\n",
       "</div>"
      ],
      "text/plain": [
       "       UserId  MovieId  Rating  Timestamp\n",
       "0         196      242       3  881250949\n",
       "1         186      302       3  891717742\n",
       "2          22      377       1  878887116\n",
       "3         244       51       2  880606923\n",
       "4         166      346       1  886397596\n",
       "...       ...      ...     ...        ...\n",
       "99995     880      476       3  880175444\n",
       "99996     716      204       5  879795543\n",
       "99997     276     1090       1  874795795\n",
       "99998      13      225       2  882399156\n",
       "99999      12      203       3  879959583\n",
       "\n",
       "[100000 rows x 4 columns]"
      ]
     },
     "execution_count": 9,
     "metadata": {},
     "output_type": "execute_result"
    }
   ],
   "source": [
    "# in case we wanna see more of this data \n",
    "data"
   ]
  },
  {
   "cell_type": "code",
   "execution_count": 10,
   "metadata": {},
   "outputs": [
    {
     "data": {
      "text/html": [
       "<div>\n",
       "<style scoped>\n",
       "    .dataframe tbody tr th:only-of-type {\n",
       "        vertical-align: middle;\n",
       "    }\n",
       "\n",
       "    .dataframe tbody tr th {\n",
       "        vertical-align: top;\n",
       "    }\n",
       "\n",
       "    .dataframe thead th {\n",
       "        text-align: right;\n",
       "    }\n",
       "</style>\n",
       "<table border=\"1\" class=\"dataframe\">\n",
       "  <thead>\n",
       "    <tr style=\"text-align: right;\">\n",
       "      <th></th>\n",
       "      <th>UserId</th>\n",
       "      <th>MovieId</th>\n",
       "      <th>Rating</th>\n",
       "      <th>Timestamp</th>\n",
       "    </tr>\n",
       "  </thead>\n",
       "  <tbody>\n",
       "    <tr>\n",
       "      <th>count</th>\n",
       "      <td>100000.00000</td>\n",
       "      <td>100000.000000</td>\n",
       "      <td>100000.000000</td>\n",
       "      <td>1.000000e+05</td>\n",
       "    </tr>\n",
       "    <tr>\n",
       "      <th>mean</th>\n",
       "      <td>462.48475</td>\n",
       "      <td>425.530130</td>\n",
       "      <td>3.529860</td>\n",
       "      <td>8.835289e+08</td>\n",
       "    </tr>\n",
       "    <tr>\n",
       "      <th>std</th>\n",
       "      <td>266.61442</td>\n",
       "      <td>330.798356</td>\n",
       "      <td>1.125674</td>\n",
       "      <td>5.343856e+06</td>\n",
       "    </tr>\n",
       "    <tr>\n",
       "      <th>min</th>\n",
       "      <td>1.00000</td>\n",
       "      <td>1.000000</td>\n",
       "      <td>1.000000</td>\n",
       "      <td>8.747247e+08</td>\n",
       "    </tr>\n",
       "    <tr>\n",
       "      <th>25%</th>\n",
       "      <td>254.00000</td>\n",
       "      <td>175.000000</td>\n",
       "      <td>3.000000</td>\n",
       "      <td>8.794487e+08</td>\n",
       "    </tr>\n",
       "    <tr>\n",
       "      <th>50%</th>\n",
       "      <td>447.00000</td>\n",
       "      <td>322.000000</td>\n",
       "      <td>4.000000</td>\n",
       "      <td>8.828269e+08</td>\n",
       "    </tr>\n",
       "    <tr>\n",
       "      <th>75%</th>\n",
       "      <td>682.00000</td>\n",
       "      <td>631.000000</td>\n",
       "      <td>4.000000</td>\n",
       "      <td>8.882600e+08</td>\n",
       "    </tr>\n",
       "    <tr>\n",
       "      <th>max</th>\n",
       "      <td>943.00000</td>\n",
       "      <td>1682.000000</td>\n",
       "      <td>5.000000</td>\n",
       "      <td>8.932866e+08</td>\n",
       "    </tr>\n",
       "  </tbody>\n",
       "</table>\n",
       "</div>"
      ],
      "text/plain": [
       "             UserId        MovieId         Rating     Timestamp\n",
       "count  100000.00000  100000.000000  100000.000000  1.000000e+05\n",
       "mean      462.48475     425.530130       3.529860  8.835289e+08\n",
       "std       266.61442     330.798356       1.125674  5.343856e+06\n",
       "min         1.00000       1.000000       1.000000  8.747247e+08\n",
       "25%       254.00000     175.000000       3.000000  8.794487e+08\n",
       "50%       447.00000     322.000000       4.000000  8.828269e+08\n",
       "75%       682.00000     631.000000       4.000000  8.882600e+08\n",
       "max       943.00000    1682.000000       5.000000  8.932866e+08"
      ]
     },
     "execution_count": 10,
     "metadata": {},
     "output_type": "execute_result"
    }
   ],
   "source": [
    "data.describe()"
   ]
  },
  {
   "cell_type": "markdown",
   "metadata": {},
   "source": [
    "And, more..."
   ]
  },
  {
   "cell_type": "code",
   "execution_count": 11,
   "metadata": {},
   "outputs": [
    {
     "name": "stdout",
     "output_type": "stream",
     "text": [
      "Total number of ratings are:\t100000\n",
      "Total number of users are:\t943\n",
      "Total number of items are:\t1682\n"
     ]
    }
   ],
   "source": [
    "print(\n",
    "    \"Total number of ratings are:\\t{}\".format(data.shape[0]),\n",
    "    \"Total number of users are:\\t{}\".format(data[COL_USER].nunique()),\n",
    "    \"Total number of items are:\\t{}\".format(data[COL_ITEM].nunique()),\n",
    "    sep=\"\\n\"\n",
    ")"
   ]
  },
  {
   "cell_type": "markdown",
   "metadata": {},
   "source": [
    "### 1.2 Data transformation"
   ]
  },
  {
   "cell_type": "markdown",
   "metadata": {},
   "source": [
    "Original timestamps are converted to ISO format."
   ]
  },
  {
   "cell_type": "code",
   "execution_count": 8,
   "metadata": {},
   "outputs": [],
   "source": [
    "data[COL_TIMESTAMP]= data.apply(\n",
    "    lambda x: datetime.strftime(datetime(1970, 1, 1, 0, 0, 0) + timedelta(seconds=x[COL_TIMESTAMP].item()), \"%Y-%m-%d %H:%M:%S\"), \n",
    "    axis=1\n",
    ")"
   ]
  },
  {
   "cell_type": "code",
   "execution_count": 9,
   "metadata": {},
   "outputs": [
    {
     "data": {
      "text/html": [
       "<div>\n",
       "<style scoped>\n",
       "    .dataframe tbody tr th:only-of-type {\n",
       "        vertical-align: middle;\n",
       "    }\n",
       "\n",
       "    .dataframe tbody tr th {\n",
       "        vertical-align: top;\n",
       "    }\n",
       "\n",
       "    .dataframe thead th {\n",
       "        text-align: right;\n",
       "    }\n",
       "</style>\n",
       "<table border=\"1\" class=\"dataframe\">\n",
       "  <thead>\n",
       "    <tr style=\"text-align: right;\">\n",
       "      <th></th>\n",
       "      <th>UserId</th>\n",
       "      <th>MovieId</th>\n",
       "      <th>Rating</th>\n",
       "      <th>Timestamp</th>\n",
       "    </tr>\n",
       "  </thead>\n",
       "  <tbody>\n",
       "    <tr>\n",
       "      <th>0</th>\n",
       "      <td>196</td>\n",
       "      <td>242</td>\n",
       "      <td>3</td>\n",
       "      <td>1997-12-04 15:55:49</td>\n",
       "    </tr>\n",
       "    <tr>\n",
       "      <th>1</th>\n",
       "      <td>186</td>\n",
       "      <td>302</td>\n",
       "      <td>3</td>\n",
       "      <td>1998-04-04 19:22:22</td>\n",
       "    </tr>\n",
       "    <tr>\n",
       "      <th>2</th>\n",
       "      <td>22</td>\n",
       "      <td>377</td>\n",
       "      <td>1</td>\n",
       "      <td>1997-11-07 07:18:36</td>\n",
       "    </tr>\n",
       "    <tr>\n",
       "      <th>3</th>\n",
       "      <td>244</td>\n",
       "      <td>51</td>\n",
       "      <td>2</td>\n",
       "      <td>1997-11-27 05:02:03</td>\n",
       "    </tr>\n",
       "    <tr>\n",
       "      <th>4</th>\n",
       "      <td>166</td>\n",
       "      <td>346</td>\n",
       "      <td>1</td>\n",
       "      <td>1998-02-02 05:33:16</td>\n",
       "    </tr>\n",
       "  </tbody>\n",
       "</table>\n",
       "</div>"
      ],
      "text/plain": [
       "   UserId  MovieId  Rating            Timestamp\n",
       "0     196      242       3  1997-12-04 15:55:49\n",
       "1     186      302       3  1998-04-04 19:22:22\n",
       "2      22      377       1  1997-11-07 07:18:36\n",
       "3     244       51       2  1997-11-27 05:02:03\n",
       "4     166      346       1  1998-02-02 05:33:16"
      ]
     },
     "execution_count": 9,
     "metadata": {},
     "output_type": "execute_result"
    }
   ],
   "source": [
    "data.head()"
   ]
  },
  {
   "cell_type": "markdown",
   "metadata": {},
   "source": [
    "## 2 Experimentation protocol"
   ]
  },
  {
   "cell_type": "markdown",
   "metadata": {},
   "source": [
    "Experimentation protocol is usually set up to favor a reasonable evaluation for a specific recommendation scenario. For example,\n",
    "* *Recommender-A* is to recommend movies to people by taking people's collaborative rating similarities. To make sure the evaluation is statisically sound, the same set of users for both model building and testing should be used (to avoid any cold-ness of users), and a stratified splitting strategy should be taken.\n",
    "* *Recommender-B* is to recommend fashion products to customers. It makes sense that evaluation of the recommender considers time-dependency of customer purchases, as apparently, tastes of the customers in fashion items may be drifting over time. In this case, a chronologically splitting should be used."
   ]
  },
  {
   "cell_type": "markdown",
   "metadata": {},
   "source": [
    "## 3 Data split"
   ]
  },
  {
   "cell_type": "markdown",
   "metadata": {},
   "source": [
    "### 3.1 Random split"
   ]
  },
  {
   "cell_type": "markdown",
   "metadata": {},
   "source": [
    "Random split simply takes in a data set and outputs the splits of the data, given the split ratios."
   ]
  },
  {
   "cell_type": "code",
   "execution_count": 10,
   "metadata": {},
   "outputs": [],
   "source": [
    "data_train, data_test = python_random_split(data, ratio=0.7)"
   ]
  },
  {
   "cell_type": "code",
   "execution_count": 11,
   "metadata": {},
   "outputs": [
    {
     "data": {
      "text/plain": [
       "(70000, 30000)"
      ]
     },
     "execution_count": 11,
     "metadata": {},
     "output_type": "execute_result"
    }
   ],
   "source": [
    "data_train.shape[0], data_test.shape[0]"
   ]
  },
  {
   "cell_type": "markdown",
   "metadata": {},
   "source": [
    "Sometimes a multi-split is needed."
   ]
  },
  {
   "cell_type": "code",
   "execution_count": 12,
   "metadata": {},
   "outputs": [],
   "source": [
    "data_train, data_validate, data_test = python_random_split(data, ratio=[0.6, 0.2, 0.2])"
   ]
  },
  {
   "cell_type": "code",
   "execution_count": 13,
   "metadata": {},
   "outputs": [
    {
     "data": {
      "text/plain": [
       "(60000, 20000, 20000)"
      ]
     },
     "execution_count": 13,
     "metadata": {},
     "output_type": "execute_result"
    }
   ],
   "source": [
    "data_train.shape[0], data_validate.shape[0], data_test.shape[0]"
   ]
  },
  {
   "cell_type": "markdown",
   "metadata": {},
   "source": [
    "Ratios can be integers as well."
   ]
  },
  {
   "cell_type": "code",
   "execution_count": 14,
   "metadata": {},
   "outputs": [],
   "source": [
    "data_train, data_validate, data_test = python_random_split(data, ratio=[3, 1, 1])"
   ]
  },
  {
   "cell_type": "markdown",
   "metadata": {},
   "source": [
    "For producing the same results."
   ]
  },
  {
   "cell_type": "code",
   "execution_count": 15,
   "metadata": {},
   "outputs": [
    {
     "data": {
      "text/plain": [
       "(60000, 20000, 20000)"
      ]
     },
     "execution_count": 15,
     "metadata": {},
     "output_type": "execute_result"
    }
   ],
   "source": [
    "data_train.shape[0], data_validate.shape[0], data_test.shape[0]"
   ]
  },
  {
   "cell_type": "markdown",
   "metadata": {},
   "source": [
    "### 3.2 Chronological split"
   ]
  },
  {
   "cell_type": "markdown",
   "metadata": {},
   "source": [
    "Chronogically splitting method takes in a dataset and splits it on timestamp. "
   ]
  },
  {
   "cell_type": "markdown",
   "metadata": {},
   "source": [
    "#### 3.2.1 \"Filter by\""
   ]
  },
  {
   "cell_type": "markdown",
   "metadata": {},
   "source": [
    "Chrono splitting can be either by \"user\" or \"item\". For example, if it is by \"user\" and the splitting ratio is 0.7, it means that first 70% ratings for each user in the data will be put into one split while the other 30% is in another. It is worth noting that a chronological split is not \"random\" because splitting is timestamp-dependent."
   ]
  },
  {
   "cell_type": "code",
   "execution_count": 16,
   "metadata": {},
   "outputs": [],
   "source": [
    "data_train, data_test = python_chrono_split(\n",
    "    data, ratio=0.7, filter_by=\"user\",\n",
    "    col_user=COL_USER, col_item=COL_ITEM, col_timestamp=COL_TIMESTAMP\n",
    ")"
   ]
  },
  {
   "cell_type": "markdown",
   "metadata": {},
   "source": [
    "Take a look at the results for one particular user:"
   ]
  },
  {
   "cell_type": "markdown",
   "metadata": {},
   "source": [
    "* The last 10 rows of the train data:"
   ]
  },
  {
   "cell_type": "code",
   "execution_count": 17,
   "metadata": {},
   "outputs": [
    {
     "data": {
      "text/html": [
       "<div>\n",
       "<style scoped>\n",
       "    .dataframe tbody tr th:only-of-type {\n",
       "        vertical-align: middle;\n",
       "    }\n",
       "\n",
       "    .dataframe tbody tr th {\n",
       "        vertical-align: top;\n",
       "    }\n",
       "\n",
       "    .dataframe thead th {\n",
       "        text-align: right;\n",
       "    }\n",
       "</style>\n",
       "<table border=\"1\" class=\"dataframe\">\n",
       "  <thead>\n",
       "    <tr style=\"text-align: right;\">\n",
       "      <th></th>\n",
       "      <th>UserId</th>\n",
       "      <th>MovieId</th>\n",
       "      <th>Rating</th>\n",
       "      <th>Timestamp</th>\n",
       "    </tr>\n",
       "  </thead>\n",
       "  <tbody>\n",
       "    <tr>\n",
       "      <th>1989</th>\n",
       "      <td>1</td>\n",
       "      <td>90</td>\n",
       "      <td>4</td>\n",
       "      <td>1997-11-03 07:31:40</td>\n",
       "    </tr>\n",
       "    <tr>\n",
       "      <th>11807</th>\n",
       "      <td>1</td>\n",
       "      <td>219</td>\n",
       "      <td>1</td>\n",
       "      <td>1997-11-03 07:32:07</td>\n",
       "    </tr>\n",
       "    <tr>\n",
       "      <th>50026</th>\n",
       "      <td>1</td>\n",
       "      <td>167</td>\n",
       "      <td>2</td>\n",
       "      <td>1997-11-03 07:33:03</td>\n",
       "    </tr>\n",
       "    <tr>\n",
       "      <th>202</th>\n",
       "      <td>1</td>\n",
       "      <td>61</td>\n",
       "      <td>4</td>\n",
       "      <td>1997-11-03 07:33:40</td>\n",
       "    </tr>\n",
       "    <tr>\n",
       "      <th>16314</th>\n",
       "      <td>1</td>\n",
       "      <td>230</td>\n",
       "      <td>4</td>\n",
       "      <td>1997-11-03 07:33:40</td>\n",
       "    </tr>\n",
       "    <tr>\n",
       "      <th>43280</th>\n",
       "      <td>1</td>\n",
       "      <td>162</td>\n",
       "      <td>4</td>\n",
       "      <td>1997-11-03 07:33:40</td>\n",
       "    </tr>\n",
       "    <tr>\n",
       "      <th>51295</th>\n",
       "      <td>1</td>\n",
       "      <td>35</td>\n",
       "      <td>1</td>\n",
       "      <td>1997-11-03 07:33:40</td>\n",
       "    </tr>\n",
       "    <tr>\n",
       "      <th>820</th>\n",
       "      <td>1</td>\n",
       "      <td>265</td>\n",
       "      <td>4</td>\n",
       "      <td>1997-11-03 07:34:01</td>\n",
       "    </tr>\n",
       "    <tr>\n",
       "      <th>11154</th>\n",
       "      <td>1</td>\n",
       "      <td>112</td>\n",
       "      <td>1</td>\n",
       "      <td>1997-11-03 07:34:01</td>\n",
       "    </tr>\n",
       "    <tr>\n",
       "      <th>45732</th>\n",
       "      <td>1</td>\n",
       "      <td>57</td>\n",
       "      <td>5</td>\n",
       "      <td>1997-11-03 07:34:19</td>\n",
       "    </tr>\n",
       "  </tbody>\n",
       "</table>\n",
       "</div>"
      ],
      "text/plain": [
       "       UserId  MovieId  Rating            Timestamp\n",
       "1989        1       90       4  1997-11-03 07:31:40\n",
       "11807       1      219       1  1997-11-03 07:32:07\n",
       "50026       1      167       2  1997-11-03 07:33:03\n",
       "202         1       61       4  1997-11-03 07:33:40\n",
       "16314       1      230       4  1997-11-03 07:33:40\n",
       "43280       1      162       4  1997-11-03 07:33:40\n",
       "51295       1       35       1  1997-11-03 07:33:40\n",
       "820         1      265       4  1997-11-03 07:34:01\n",
       "11154       1      112       1  1997-11-03 07:34:01\n",
       "45732       1       57       5  1997-11-03 07:34:19"
      ]
     },
     "execution_count": 17,
     "metadata": {},
     "output_type": "execute_result"
    }
   ],
   "source": [
    "data_train[data_train[COL_USER] == 1].tail(10)"
   ]
  },
  {
   "cell_type": "markdown",
   "metadata": {},
   "source": [
    "* The first 10 rows of the test data:"
   ]
  },
  {
   "cell_type": "code",
   "execution_count": 18,
   "metadata": {},
   "outputs": [
    {
     "data": {
      "text/html": [
       "<div>\n",
       "<style scoped>\n",
       "    .dataframe tbody tr th:only-of-type {\n",
       "        vertical-align: middle;\n",
       "    }\n",
       "\n",
       "    .dataframe tbody tr th {\n",
       "        vertical-align: top;\n",
       "    }\n",
       "\n",
       "    .dataframe thead th {\n",
       "        text-align: right;\n",
       "    }\n",
       "</style>\n",
       "<table border=\"1\" class=\"dataframe\">\n",
       "  <thead>\n",
       "    <tr style=\"text-align: right;\">\n",
       "      <th></th>\n",
       "      <th>UserId</th>\n",
       "      <th>MovieId</th>\n",
       "      <th>Rating</th>\n",
       "      <th>Timestamp</th>\n",
       "    </tr>\n",
       "  </thead>\n",
       "  <tbody>\n",
       "    <tr>\n",
       "      <th>5682</th>\n",
       "      <td>1</td>\n",
       "      <td>49</td>\n",
       "      <td>3</td>\n",
       "      <td>1997-11-03 07:34:38</td>\n",
       "    </tr>\n",
       "    <tr>\n",
       "      <th>24493</th>\n",
       "      <td>1</td>\n",
       "      <td>30</td>\n",
       "      <td>3</td>\n",
       "      <td>1997-11-03 07:35:15</td>\n",
       "    </tr>\n",
       "    <tr>\n",
       "      <th>6234</th>\n",
       "      <td>1</td>\n",
       "      <td>233</td>\n",
       "      <td>2</td>\n",
       "      <td>1997-11-03 07:35:52</td>\n",
       "    </tr>\n",
       "    <tr>\n",
       "      <th>39865</th>\n",
       "      <td>1</td>\n",
       "      <td>131</td>\n",
       "      <td>1</td>\n",
       "      <td>1997-11-03 07:35:52</td>\n",
       "    </tr>\n",
       "    <tr>\n",
       "      <th>4280</th>\n",
       "      <td>1</td>\n",
       "      <td>82</td>\n",
       "      <td>5</td>\n",
       "      <td>1997-11-03 07:36:29</td>\n",
       "    </tr>\n",
       "    <tr>\n",
       "      <th>96699</th>\n",
       "      <td>1</td>\n",
       "      <td>152</td>\n",
       "      <td>5</td>\n",
       "      <td>1997-11-03 07:36:29</td>\n",
       "    </tr>\n",
       "    <tr>\n",
       "      <th>25721</th>\n",
       "      <td>1</td>\n",
       "      <td>141</td>\n",
       "      <td>3</td>\n",
       "      <td>1997-11-03 07:36:48</td>\n",
       "    </tr>\n",
       "    <tr>\n",
       "      <th>5842</th>\n",
       "      <td>1</td>\n",
       "      <td>72</td>\n",
       "      <td>4</td>\n",
       "      <td>1997-11-03 07:37:58</td>\n",
       "    </tr>\n",
       "    <tr>\n",
       "      <th>333</th>\n",
       "      <td>1</td>\n",
       "      <td>33</td>\n",
       "      <td>4</td>\n",
       "      <td>1997-11-03 07:38:19</td>\n",
       "    </tr>\n",
       "    <tr>\n",
       "      <th>37810</th>\n",
       "      <td>1</td>\n",
       "      <td>158</td>\n",
       "      <td>3</td>\n",
       "      <td>1997-11-03 07:38:19</td>\n",
       "    </tr>\n",
       "  </tbody>\n",
       "</table>\n",
       "</div>"
      ],
      "text/plain": [
       "       UserId  MovieId  Rating            Timestamp\n",
       "5682        1       49       3  1997-11-03 07:34:38\n",
       "24493       1       30       3  1997-11-03 07:35:15\n",
       "6234        1      233       2  1997-11-03 07:35:52\n",
       "39865       1      131       1  1997-11-03 07:35:52\n",
       "4280        1       82       5  1997-11-03 07:36:29\n",
       "96699       1      152       5  1997-11-03 07:36:29\n",
       "25721       1      141       3  1997-11-03 07:36:48\n",
       "5842        1       72       4  1997-11-03 07:37:58\n",
       "333         1       33       4  1997-11-03 07:38:19\n",
       "37810       1      158       3  1997-11-03 07:38:19"
      ]
     },
     "execution_count": 18,
     "metadata": {},
     "output_type": "execute_result"
    }
   ],
   "source": [
    "data_test[data_test[COL_USER] == 1].head(10)"
   ]
  },
  {
   "cell_type": "markdown",
   "metadata": {},
   "source": [
    "Timestamps of train data are all precedent to those in test data."
   ]
  },
  {
   "cell_type": "markdown",
   "metadata": {},
   "source": [
    "#### 3.3.2 Min-rating filter"
   ]
  },
  {
   "cell_type": "markdown",
   "metadata": {},
   "source": [
    "A min-rating filter is applied to data before it is split by using chronological splitter. The reason of doing this is that, for multi-split, there should be sufficient number of ratings for user/item in the data.\n",
    "\n",
    "For example, the following means splitting only applies to users that have at least 10 ratings."
   ]
  },
  {
   "cell_type": "code",
   "execution_count": 19,
   "metadata": {},
   "outputs": [],
   "source": [
    "data_train, data_test = python_chrono_split(\n",
    "    data, filter_by=\"user\", min_rating=10, ratio=0.7,\n",
    "    col_user=COL_USER, col_item=COL_ITEM, col_timestamp=COL_TIMESTAMP\n",
    ")"
   ]
  },
  {
   "cell_type": "markdown",
   "metadata": {},
   "source": [
    "Number of rows in the yielded splits of data may not sum to the original ones as users with fewer than 10 ratings are filtered out in the splitting."
   ]
  },
  {
   "cell_type": "code",
   "execution_count": 20,
   "metadata": {},
   "outputs": [
    {
     "data": {
      "text/plain": [
       "(100000, 100000)"
      ]
     },
     "execution_count": 20,
     "metadata": {},
     "output_type": "execute_result"
    }
   ],
   "source": [
    "data_train.shape[0] + data_test.shape[0], data.shape[0]"
   ]
  },
  {
   "cell_type": "markdown",
   "metadata": {},
   "source": [
    "### 3.3 Stratified split"
   ]
  },
  {
   "cell_type": "markdown",
   "metadata": {},
   "source": [
    "Chronogically splitting method takes in a dataset and splits it by either user or item. The split is stratified so that the same set of users or items will appear in both training and testing data sets. \n",
    "\n",
    "Similar to chronological splitter, `filter_by` and `min_rating_filter` also apply to the stratified splitter.\n",
    "\n",
    "The following example shows the split of the sample data with a ratio of 0.7, and for each user there should be at least 10 ratings."
   ]
  },
  {
   "cell_type": "code",
   "execution_count": 21,
   "metadata": {},
   "outputs": [],
   "source": [
    "data_train, data_test = python_stratified_split(\n",
    "    data, filter_by=\"user\", min_rating=10, ratio=0.7,\n",
    "    col_user=COL_USER, col_item=COL_ITEM\n",
    ")"
   ]
  },
  {
   "cell_type": "code",
   "execution_count": 22,
   "metadata": {},
   "outputs": [
    {
     "data": {
      "text/plain": [
       "(100000, 100000)"
      ]
     },
     "execution_count": 22,
     "metadata": {},
     "output_type": "execute_result"
    }
   ],
   "source": [
    "data_train.shape[0] + data_test.shape[0], data.shape[0]"
   ]
  },
  {
   "cell_type": "markdown",
   "metadata": {},
   "source": [
    "## References"
   ]
  },
  {
   "cell_type": "markdown",
   "metadata": {},
   "source": [
    "1. Dimitris Paraschakis et al, \"Comparative Evaluation of Top-N Recommenders in e-Commerce: An Industrial Perspective\", IEEE ICMLA, 2015, Miami, FL, USA.\n",
    "2. Guy Shani and Asela Gunawardana, \"Evaluating Recommendation Systems\", Recommender Systems Handbook, Springer, 2015. \n",
    "3. A. Argyriou, M. González-Fierro, and L. Zhang, \"Microsoft Recommenders: Best Practices for Production-Ready Recommendation Systems\", WWW 2020: International World Wide Web Conference Taipei, 2020. Available online: https://dl.acm.org/doi/abs/10.1145/3366424.3382692"
   ]
  }
 ],
 "metadata": {
  "kernelspec": {
   "display_name": "recommenders",
   "language": "python",
   "name": "python3"
  },
  "language_info": {
   "codemirror_mode": {
    "name": "ipython",
    "version": 3
   },
   "file_extension": ".py",
   "mimetype": "text/x-python",
   "name": "python",
   "nbconvert_exporter": "python",
   "pygments_lexer": "ipython3",
   "version": "3.11.5"
  }
 },
 "nbformat": 4,
 "nbformat_minor": 2
}
